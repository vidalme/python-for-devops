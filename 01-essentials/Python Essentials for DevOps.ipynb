{
 "cells": [
  {
   "cell_type": "markdown",
   "id": "4434ba3d-c45a-4929-8741-65a569146419",
   "metadata": {},
   "source": [
    "<h3>Python Essentials for DevOps</h3>"
   ]
  },
  {
   "cell_type": "markdown",
   "id": "4fbc493f-155f-4fd3-8fb1-6ae70792826b",
   "metadata": {},
   "source": [
    "<h2 style='color:gold'>Using regular Expressions</h2>"
   ]
  },
  {
   "cell_type": "code",
   "execution_count": 15,
   "id": "ae1efc6d-e94e-45bb-90c0-40ab913bcc0a",
   "metadata": {},
   "outputs": [],
   "source": [
    "import re\n",
    "\n",
    "cc_list = '''Ezra Koenig <ekoenig@vpwk.com>, Rostam Batmanglij <rostam@vpwk.com>, Chris Tomson <ctomson@vpwk.com, Bobbi Baio <bbaio@vpwk.com'''\n"
   ]
  },
  {
   "cell_type": "markdown",
   "id": "38dc63c2-db27-42bc-80dd-eeaa8243c98b",
   "metadata": {},
   "source": [
    "<h4 style='color:DodgerBlue'>Searching</h4>\n",
    "<p>O uso da flag <b>r</b> antes de 'Rostam' é para informar o compilador  que caracteres dentro das aspas são considerados parte de uma regex e não precisam ser escapados com \"\\\""
   ]
  },
  {
   "cell_type": "code",
   "execution_count": 16,
   "id": "56ca3f6a-14d4-4ebb-be7f-35db64789a40",
   "metadata": {},
   "outputs": [
    {
     "data": {
      "text/plain": [
       "<re.Match object; span=(32, 38), match='Rostam'>"
      ]
     },
     "execution_count": 16,
     "metadata": {},
     "output_type": "execute_result"
    }
   ],
   "source": [
    "re.search(r'Rostam', cc_list)"
   ]
  },
  {
   "cell_type": "markdown",
   "id": "39532bbe-5da5-4019-a326-f7fc1fbba770",
   "metadata": {},
   "source": [
    "Pode ser usado como condicional"
   ]
  },
  {
   "cell_type": "code",
   "execution_count": 17,
   "id": "92e13ebd-5f87-4477-8205-7b0c54e96a8b",
   "metadata": {},
   "outputs": [
    {
     "name": "stdout",
     "output_type": "stream",
     "text": [
      "Found Rostam\n"
     ]
    }
   ],
   "source": [
    "if re.search(r'Rostam', cc_list):\n",
    "    print('Found Rostam')"
   ]
  },
  {
   "cell_type": "markdown",
   "id": "f5462dbd-01ba-4248-9e5c-dd03c85ca719",
   "metadata": {},
   "source": [
    "<h4 style='color:DodgerBlue'>Character Sets</h4>"
   ]
  },
  {
   "cell_type": "code",
   "execution_count": 21,
   "id": "42e10201-25a6-46e5-9a69-454464f205c9",
   "metadata": {},
   "outputs": [
    {
     "data": {
      "text/plain": [
       "<re.Match object; span=(0, 1), match='E'>"
      ]
     },
     "execution_count": 21,
     "metadata": {},
     "output_type": "execute_result"
    }
   ],
   "source": [
    "re.search(r'[a-zA-Z]+',cc_list)"
   ]
  },
  {
   "cell_type": "code",
   "execution_count": 22,
   "id": "ddedb1f2-3ff7-4e29-9cbc-e2d870f4d9df",
   "metadata": {},
   "outputs": [
    {
     "data": {
      "text/plain": [
       "<re.Match object; span=(5, 11), match='Koenig'>"
      ]
     },
     "execution_count": 22,
     "metadata": {},
     "output_type": "execute_result"
    }
   ],
   "source": [
    "re.search(r'[a-zA-Z]{6}',cc_list)"
   ]
  },
  {
   "cell_type": "code",
   "execution_count": 36,
   "id": "5c887259-2a3d-4fef-86cf-7b2902070c00",
   "metadata": {},
   "outputs": [
    {
     "data": {
      "text/plain": [
       "['ekoenig@vpwk.com', 'rostam@vpwk.com', 'ctomson@vpwk.com', 'bbaio@vpwk.com']"
      ]
     },
     "execution_count": 36,
     "metadata": {},
     "output_type": "execute_result"
    }
   ],
   "source": [
    "re.findall(r'[a-zA-Z]+@[a-zA-Z]+\\.com+',cc_list)"
   ]
  },
  {
   "cell_type": "markdown",
   "id": "6779bbcc-304b-49a8-9925-dd9ccd2d256c",
   "metadata": {},
   "source": [
    "<h4 style='color:DodgerBlue'>Character Classes</h4>\n",
    "<p> These are characters that represent a whole class of characters, like \\w for character alphanumeric [a-zA-Z0-9] or \\d for numbers"
   ]
  },
  {
   "cell_type": "code",
   "execution_count": 38,
   "id": "56d5b1df-cd6f-4906-8e64-e20838b61035",
   "metadata": {},
   "outputs": [
    {
     "data": {
      "text/plain": [
       "<re.Match object; span=(0, 4), match='Ezra'>"
      ]
     },
     "execution_count": 38,
     "metadata": {},
     "output_type": "execute_result"
    }
   ],
   "source": [
    "re.search(r'\\w+',cc_list)"
   ]
  },
  {
   "cell_type": "code",
   "execution_count": 40,
   "id": "2d25ebce-c664-4ada-8cd9-3a6e8c94a6d3",
   "metadata": {},
   "outputs": [
    {
     "data": {
      "text/plain": [
       "['ekoenig@vpwk.com', 'rostam@vpwk.com', 'ctomson@vpwk.com', 'bbaio@vpwk.com']"
      ]
     },
     "execution_count": 40,
     "metadata": {},
     "output_type": "execute_result"
    }
   ],
   "source": [
    "re.findall(r'\\w+\\@\\w+\\.\\w+',cc_list)"
   ]
  },
  {
   "cell_type": "markdown",
   "id": "418fa83b-8183-439b-b025-131828a78dd6",
   "metadata": {},
   "source": [
    "<h4 style='color:DodgerBlue'>Groups</h4>\n",
    "<p>Podemos criar grupos entre parenteses () , eles podem ser acessados com o objeto matched em ordem de aparecimento na regex"
   ]
  },
  {
   "cell_type": "code",
   "execution_count": 66,
   "id": "cdbaf5dc-f851-44b7-9820-41713f8e23f2",
   "metadata": {},
   "outputs": [
    {
     "name": "stdout",
     "output_type": "stream",
     "text": [
      "ekoenig\n",
      "vpwk\n",
      "com\n"
     ]
    }
   ],
   "source": [
    "matched = re.search(r'(\\w+)\\@(\\w+)\\.(\\w+)',cc_list)\n",
    "print(matched.group(1))\n",
    "print(matched.group(2))\n",
    "print(matched.group(3))"
   ]
  },
  {
   "cell_type": "markdown",
   "id": "ec4a8e1d-3506-4523-b546-93d3b78e9199",
   "metadata": {},
   "source": [
    "<h4 style='color:DodgerBlue'>Named Groups</h4> \n",
    "<p>Podemos dar nomes a esses grupos usando o ?P< nome >"
   ]
  },
  {
   "cell_type": "code",
   "execution_count": 65,
   "id": "6ce1bb15-dd67-4387-96de-a6cdd8ee2808",
   "metadata": {},
   "outputs": [
    {
     "name": "stdout",
     "output_type": "stream",
     "text": [
      "ekoenig\n",
      "vpwk\n",
      "com\n"
     ]
    }
   ],
   "source": [
    "matched = re.search(r'(?P<prim>\\w+)\\@(?P<segu>\\w+)\\.(?P<terc>\\w+)',cc_list)\n",
    "print(matched.group('prim'))\n",
    "print(matched.group('segu'))\n",
    "print(matched.group('terc'))"
   ]
  },
  {
   "cell_type": "markdown",
   "id": "618af8b0-3237-44d1-8fd3-eee1909829cb",
   "metadata": {},
   "source": [
    "<h4 style='color:DodgerBlue'>Find All</h4> \n",
    "<p Com o metodo finall a gente consegue encontrar todos os matches da regex"
   ]
  },
  {
   "cell_type": "code",
   "execution_count": 91,
   "id": "54c436e7-af88-46d1-ae1e-3b761daefc49",
   "metadata": {},
   "outputs": [
    {
     "data": {
      "text/plain": [
       "['ekoenig@vpwk.com', 'rostam@vpwk.com', 'ctomson@vpwk.com', 'bbaio@vpwk.com']"
      ]
     },
     "execution_count": 91,
     "metadata": {},
     "output_type": "execute_result"
    }
   ],
   "source": [
    "matched = re.findall(r'\\w+@\\w+.\\w+',cc_list)\n",
    "matched"
   ]
  },
  {
   "cell_type": "code",
   "execution_count": 90,
   "id": "54350df8-1343-424f-9280-5593637546d9",
   "metadata": {},
   "outputs": [
    {
     "data": {
      "text/plain": [
       "[('ekoenig', 'vpwk', 'com'),\n",
       " ('rostam', 'vpwk', 'com'),\n",
       " ('ctomson', 'vpwk', 'com'),\n",
       " ('bbaio', 'vpwk', 'com')]"
      ]
     },
     "execution_count": 90,
     "metadata": {},
     "output_type": "execute_result"
    }
   ],
   "source": [
    "matched = re.findall(r'(\\w+)@(\\w+).(\\w+)',cc_list)\n",
    "matched"
   ]
  },
  {
   "cell_type": "code",
   "execution_count": 86,
   "id": "52d585e8-7c73-4974-814e-1d608462102b",
   "metadata": {},
   "outputs": [
    {
     "data": {
      "text/plain": [
       "['ekoenig', 'rostam', 'ctomson', 'bbaio']"
      ]
     },
     "execution_count": 86,
     "metadata": {},
     "output_type": "execute_result"
    }
   ],
   "source": [
    "names = [ match[0] for match in matched  ]\n",
    "names"
   ]
  },
  {
   "cell_type": "markdown",
   "id": "55417978-e7af-4db5-b211-e1de99363eda",
   "metadata": {},
   "source": [
    "<h4 style='color:DodgerBlue'>Find Iterator</h4> \n",
    "<p> Quando trabalhamos com arquivos longos como logs, não queremos analisar tudo de uma vez, para isso usamos o 'finditer'.\n",
    "Esse metodo nos retorna o resultado quando encontrado para so apos retornar ao processamento para encontrar o proximo resultado. Isso é uma grande chance de deixar o nosso codigo mais rapido e menos clusterfucked."
   ]
  },
  {
   "cell_type": "code",
   "execution_count": 102,
   "id": "86e83733-e992-4c50-8216-9a3604873a11",
   "metadata": {},
   "outputs": [
    {
     "data": {
      "text/plain": [
       "<callable_iterator at 0x7fe8944ee2f0>"
      ]
     },
     "execution_count": 102,
     "metadata": {},
     "output_type": "execute_result"
    }
   ],
   "source": [
    "matched = re.finditer(r'\\w+@\\w+.\\w+',cc_list)\n",
    "matched"
   ]
  },
  {
   "cell_type": "code",
   "execution_count": 99,
   "id": "d9ba980f-c31e-4509-91f8-1ae3b716ee97",
   "metadata": {},
   "outputs": [
    {
     "data": {
      "text/plain": [
       "<re.Match object; span=(13, 29), match='ekoenig@vpwk.com'>"
      ]
     },
     "execution_count": 99,
     "metadata": {},
     "output_type": "execute_result"
    }
   ],
   "source": [
    "next(matched)"
   ]
  },
  {
   "cell_type": "code",
   "execution_count": 100,
   "id": "abb6b4ce-4b82-4d79-a7ac-d2c596a06f97",
   "metadata": {},
   "outputs": [
    {
     "data": {
      "text/plain": [
       "<re.Match object; span=(51, 66), match='rostam@vpwk.com'>"
      ]
     },
     "execution_count": 100,
     "metadata": {},
     "output_type": "execute_result"
    }
   ],
   "source": [
    "next(matched)"
   ]
  },
  {
   "cell_type": "markdown",
   "id": "99a6e3d3-9c78-4e05-bf95-a22ef89ba615",
   "metadata": {},
   "source": [
    "<b><p>Podemos tambem utilizar o metodo findint dentro de um for loop</p></b>"
   ]
  },
  {
   "cell_type": "code",
   "execution_count": 114,
   "id": "d953859c-1795-41d3-921e-016cb9ae04f9",
   "metadata": {},
   "outputs": [
    {
     "name": "stdout",
     "output_type": "stream",
     "text": [
      "{'name': 'ekoenig', 'itc': 'vpwk', 'com': 'com'}\n",
      "{'name': 'rostam', 'itc': 'vpwk', 'com': 'com'}\n",
      "{'name': 'ctomson', 'itc': 'vpwk', 'com': 'com'}\n",
      "{'name': 'bbaio', 'itc': 'vpwk', 'com': 'com'}\n"
     ]
    }
   ],
   "source": [
    "matched = re.finditer(r'(?P<name>\\w+)@(?P<itc>\\w+).(?P<com>\\w+)',cc_list)\n",
    "\n",
    "x = []\n",
    "for i in matched:\n",
    "    print(i.groupdict())\n"
   ]
  },
  {
   "cell_type": "markdown",
   "id": "916cfce7-c53b-493a-bb37-56798ed55c61",
   "metadata": {},
   "source": [
    "<h4 style='color:DodgerBlue'>Substitution</h4> \n",
    "<p>Alem de procurar e comparar tambem podemos substituir com a classe 're' e o metodo 'sub'"
   ]
  },
  {
   "cell_type": "code",
   "execution_count": 117,
   "id": "243fc9aa-6283-41dc-8f0a-2cb96828a7dd",
   "metadata": {},
   "outputs": [
    {
     "data": {
      "text/plain": [
       "'O password que voce digitou é ####'"
      ]
     },
     "execution_count": 117,
     "metadata": {},
     "output_type": "execute_result"
    }
   ],
   "source": [
    "password = 1234\n",
    "re.sub('\\d' , '#' , f\"O password que voce digitou é {password}\")"
   ]
  },
  {
   "cell_type": "code",
   "execution_count": 123,
   "id": "38e2d434-552f-47ed-b2b4-b7305d7958a4",
   "metadata": {},
   "outputs": [
    {
     "name": "stdout",
     "output_type": "stream",
     "text": [
      "Ezra Koenig <com@vpwk.ekoenig>, Rostam Batmanglij <com@vpwk.rostam>, Chris Tomson <com@vpwk.ctomson, Bobbi Baio <com@vpwk.bbaio\n"
     ]
    }
   ],
   "source": [
    "matched = re.sub(r'(?P<nam>\\w+)@(?P<itc>\\w+).(?P<com>\\w+)',r'\\g<com>@\\g<itc>.\\g<nam>',cc_list)\n",
    "print(matched)"
   ]
  },
  {
   "cell_type": "markdown",
   "id": "09c0e153-29d9-433f-b1ca-33b70c79943c",
   "metadata": {},
   "source": [
    "<h4 style='color:DodgerBlue'>Compiling</h4> \n",
    "<p> Ate agora usamos o modulo 're' diretamente com seus metodos, mas para performance (em caso de multiplas buscas no arquivo) a melhor opção é usar um objeto isntanciado do modulo. Para isso usamos o metodo 'compile'"
   ]
  },
  {
   "cell_type": "code",
   "execution_count": 127,
   "id": "85d019e8-0d90-406c-aa6c-b2bb1a60dadf",
   "metadata": {},
   "outputs": [
    {
     "data": {
      "text/plain": [
       "[('ekoenig', 'vpwk', 'com'),\n",
       " ('rostam', 'vpwk', 'com'),\n",
       " ('ctomson', 'vpwk', 'com'),\n",
       " ('bbaio', 'vpwk', 'com')]"
      ]
     },
     "execution_count": 127,
     "metadata": {},
     "output_type": "execute_result"
    }
   ],
   "source": [
    "regex = re.compile(r'(\\w+)@(\\w+).(\\w+)')\n",
    "regex.findall(cc_list)"
   ]
  },
  {
   "cell_type": "code",
   "execution_count": 130,
   "id": "51f736ea-7761-437a-8a4c-4dfa1812e80f",
   "metadata": {},
   "outputs": [
    {
     "data": {
      "text/plain": [
       "<re.Match object; span=(13, 29), match='ekoenig@vpwk.com'>"
      ]
     },
     "execution_count": 130,
     "metadata": {},
     "output_type": "execute_result"
    }
   ],
   "source": [
    "regex.search(cc_list)"
   ]
  },
  {
   "cell_type": "markdown",
   "id": "b884b90c-c5d8-4abd-bac5-517a481de79d",
   "metadata": {},
   "source": [
    "<h2 style='color:gold'>Lazy Evaluation</h2>\n",
    "<p>Lazy eval é usado para grandes quantidades de dados, é a ideia de ter apenas um resultado em memoria, sendo o espaço de memoria ser substituido pelo proximo resultado."
   ]
  },
  {
   "cell_type": "markdown",
   "id": "33141291-43b9-4832-85bb-e83a45d26bed",
   "metadata": {},
   "source": [
    "<h4 style='color:DodgerBlue'>Generators</h4> \n",
    "<p> Funçoes generator are similares ao builtin metodo range, onde os dados são resolvidos em partes, usamos o yeld ao inves do return.\n",
    "<p> A função é chamada, o yeld dela é armazenado para ser utilizado na proxima chamada da função, objetivamernte salvando o valor da variavel para reprocessamento."
   ]
  },
  {
   "cell_type": "code",
   "execution_count": 149,
   "id": "bcb26f91-3042-403a-973e-aa0f3210bd91",
   "metadata": {},
   "outputs": [],
   "source": [
    "def fib():\n",
    "    first = 0 \n",
    "    last = 1\n",
    "    while True:\n",
    "        first , last = last , first + last\n",
    "        yield first\n",
    "\n",
    "f = fib()"
   ]
  },
  {
   "cell_type": "code",
   "execution_count": 150,
   "id": "4bfea714-5b08-4998-b04f-df9861b1e3dc",
   "metadata": {},
   "outputs": [
    {
     "data": {
      "text/plain": [
       "1"
      ]
     },
     "execution_count": 150,
     "metadata": {},
     "output_type": "execute_result"
    }
   ],
   "source": [
    "next(f)"
   ]
  },
  {
   "cell_type": "code",
   "execution_count": null,
   "id": "e8fe81f4-06ac-4116-9149-3088d54ae4c7",
   "metadata": {},
   "outputs": [],
   "source": [
    "f = fib()"
   ]
  },
  {
   "cell_type": "markdown",
   "id": "5639c84b-fc3a-4ca4-b30d-c570feaad5f0",
   "metadata": {},
   "source": [
    "<p>Podemos tambem usar num loop setando um fim."
   ]
  },
  {
   "cell_type": "code",
   "execution_count": 151,
   "id": "75a68fa2-ae0b-403c-b035-a2714dc2bac0",
   "metadata": {},
   "outputs": [
    {
     "name": "stdout",
     "output_type": "stream",
     "text": [
      "1\n",
      "2\n",
      "3\n",
      "5\n",
      "8\n",
      "13\n"
     ]
    }
   ],
   "source": [
    "for x in f:\n",
    "    print(x)\n",
    "    if x > 12:\n",
    "        break"
   ]
  },
  {
   "cell_type": "code",
   "execution_count": null,
   "id": "32d7a7ac-ac44-43b5-a4ae-97aa1a697197",
   "metadata": {},
   "outputs": [],
   "source": []
  },
  {
   "cell_type": "code",
   "execution_count": null,
   "id": "3eb3c36e-aec2-48e6-81ed-b43ba09f2bdb",
   "metadata": {},
   "outputs": [],
   "source": []
  },
  {
   "cell_type": "code",
   "execution_count": null,
   "id": "85656688-a811-462e-bb2e-0d7f92c5f441",
   "metadata": {},
   "outputs": [],
   "source": []
  },
  {
   "cell_type": "markdown",
   "id": "be011ddc-eb23-431f-94b1-eb932312528d",
   "metadata": {},
   "source": [
    "<h4 style='color:DodgerBlue'>Generator Comprehensions</h4> \n",
    "<p>Podemos criar one-liner generators, a synthax é similar a list comprehessions, mas usamos () ao inves de [] "
   ]
  },
  {
   "cell_type": "code",
   "execution_count": 158,
   "id": "32dc9697-65d2-42ba-a0f7-d66fd732a48e",
   "metadata": {},
   "outputs": [],
   "source": [
    "list_nums = [ x for x in range(100)]"
   ]
  },
  {
   "cell_type": "code",
   "execution_count": 159,
   "id": "9e18ee74-f7f3-4deb-a6fc-a5ec8c90b85d",
   "metadata": {},
   "outputs": [],
   "source": [
    "gen_nums = ( x for x in range(100))"
   ]
  },
  {
   "cell_type": "code",
   "execution_count": 160,
   "id": "c52d72b1-6b32-4638-9c56-168482d767e0",
   "metadata": {},
   "outputs": [
    {
     "data": {
      "text/plain": [
       "<generator object <genexpr> at 0x7fe884d59cb0>"
      ]
     },
     "execution_count": 160,
     "metadata": {},
     "output_type": "execute_result"
    }
   ],
   "source": [
    "gen_nums"
   ]
  },
  {
   "cell_type": "markdown",
   "id": "ebce813d-9d97-4598-9612-e73db1334ac7",
   "metadata": {},
   "source": [
    "<p> Mesmo com um exmeplo pequeno podemos ver a diferença na memoria"
   ]
  },
  {
   "cell_type": "code",
   "execution_count": 163,
   "id": "f2c4af2c-309f-4246-9e4e-b0e16d4a9e2f",
   "metadata": {},
   "outputs": [
    {
     "data": {
      "text/plain": [
       "920"
      ]
     },
     "execution_count": 163,
     "metadata": {},
     "output_type": "execute_result"
    }
   ],
   "source": [
    "import sys\n",
    "sys.getsizeof(list_nums)"
   ]
  },
  {
   "cell_type": "code",
   "execution_count": 164,
   "id": "f9ad9274-cbc5-4fe7-b751-45dd77e56cee",
   "metadata": {},
   "outputs": [
    {
     "data": {
      "text/plain": [
       "104"
      ]
     },
     "execution_count": 164,
     "metadata": {},
     "output_type": "execute_result"
    }
   ],
   "source": [
    "sys.getsizeof(gen_nums)"
   ]
  },
  {
   "cell_type": "markdown",
   "id": "6a991338-41f4-4258-81d6-e74bb01da8ab",
   "metadata": {},
   "source": [
    "<h2 style='color:gold'>More IPython Features</h2>\n",
    "<p>"
   ]
  },
  {
   "cell_type": "markdown",
   "id": "1b1b930d-2484-4e75-948f-02a36a633f2e",
   "metadata": {},
   "source": [
    "<h4 style='color:DodgerBlue'>Using IPython to Run Unix Shell Commands</h4> \n",
    "<p>Provavelmente a ferramenta mais poderosa do ipython, usamos o character ! para identificar comandos do shell"
   ]
  },
  {
   "cell_type": "code",
   "execution_count": 165,
   "id": "64218549-0df9-487c-a29a-3892296abc85",
   "metadata": {},
   "outputs": [],
   "source": [
    "var_ll = !ls -la"
   ]
  },
  {
   "cell_type": "code",
   "execution_count": 167,
   "id": "21395d8e-a2c0-4bc9-a57d-ca437b107084",
   "metadata": {},
   "outputs": [
    {
     "data": {
      "text/plain": [
       "IPython.utils.text.SList"
      ]
     },
     "execution_count": 167,
     "metadata": {},
     "output_type": "execute_result"
    }
   ],
   "source": [
    "type(var_ll)"
   ]
  },
  {
   "cell_type": "code",
   "execution_count": 168,
   "id": "468fdcd3-d89a-49c7-b56c-8c01183fd1ea",
   "metadata": {},
   "outputs": [
    {
     "data": {
      "text/plain": [
       "['total 32',\n",
       " 'drwxr-xr-x 3 andre andre  4096 Mar 15 10:27 .',\n",
       " 'drwxr-xr-x 8 andre andre  4096 Mar 14 09:22 ..',\n",
       " 'drwxr-xr-x 2 andre andre  4096 Mar 14 22:03 .ipynb_checkpoints',\n",
       " '-rw-r--r-- 1 andre andre 20451 Mar 15 10:27 Python Essentials for DevOps.ipynb']"
      ]
     },
     "execution_count": 168,
     "metadata": {},
     "output_type": "execute_result"
    }
   ],
   "source": [
    "var_ll"
   ]
  },
  {
   "cell_type": "markdown",
   "id": "cdc381a0-c770-4a4b-b51f-51fb63cf262c",
   "metadata": {},
   "source": [
    "<h4 style='color:DodgerBlue'>Using IPython magic commands</h4> \n",
    "<p> magic commands são atalhos bem poderosos que estão disponiveis no ipython, eles comecam com a tag %%"
   ]
  },
  {
   "cell_type": "code",
   "execution_count": 169,
   "id": "7fba0262-ba02-47e7-95b3-b8b8808c3026",
   "metadata": {},
   "outputs": [
    {
     "name": "stdout",
     "output_type": "stream",
     "text": [
      "Linux vidalme-pc 5.15.133.1-microsoft-standard-WSL2 #1 SMP Thu Oct 5 21:02:42 UTC 2023 x86_64 x86_64 x86_64 GNU/Linux\n",
      "_apt:x:105:65534::/nonexistent:/usr/sbin/nologin\n",
      "uuidd:x:106:112::/run/uuidd:/usr/sbin/nologin\n",
      "tcpdump:x:107:113::/nonexistent:/usr/sbin/nologin\n",
      "andre:x:1000:1000:,,,:/home/andre:/bin/bash\n",
      "dnsmasq:x:108:65534:dnsmasq,,,:/var/lib/misc:/usr/sbin/nologin\n"
     ]
    }
   ],
   "source": [
    "%%bash\n",
    "uname -a\n",
    "tail -n5 /etc/passwd"
   ]
  },
  {
   "cell_type": "markdown",
   "id": "fa87b55a-5eb5-404a-95e7-8819fbd6ae22",
   "metadata": {},
   "source": [
    "<p> O %%writefile é outro magic commando realmente é magico, voce pode escrever bash ou python commands e testa-lo de dentro do codigo, kkk, coisas que eu nem sabia que precisava... "
   ]
  },
  {
   "cell_type": "code",
   "execution_count": 170,
   "id": "8ad99c77-fe44-4c1e-8ae5-8156987dbf65",
   "metadata": {},
   "outputs": [
    {
     "name": "stdout",
     "output_type": "stream",
     "text": [
      "Writing print_time.py\n"
     ]
    }
   ],
   "source": [
    "%%writefile print_time.py\n",
    "#!/usr/bin/env python\n",
    "import datetime\n",
    "print(datetime.datetime.now().time())"
   ]
  },
  {
   "cell_type": "code",
   "execution_count": 171,
   "id": "350c595f-3224-4eef-8978-fd85b763255e",
   "metadata": {},
   "outputs": [
    {
     "name": "stdout",
     "output_type": "stream",
     "text": [
      "#!/usr/bin/env python\n",
      "import datetime\n",
      "print(datetime.datetime.now().time())\n"
     ]
    }
   ],
   "source": [
    "cat print_time.py"
   ]
  },
  {
   "cell_type": "code",
   "execution_count": 172,
   "id": "1676f176-cefc-41ea-b19e-3f8619905481",
   "metadata": {},
   "outputs": [
    {
     "name": "stdout",
     "output_type": "stream",
     "text": [
      "11:31:06.121544\n"
     ]
    }
   ],
   "source": [
    "!python print_time.py"
   ]
  },
  {
   "cell_type": "code",
   "execution_count": null,
   "id": "07d1eef2-1ba7-4372-86ba-e4a912ce6837",
   "metadata": {},
   "outputs": [],
   "source": []
  },
  {
   "cell_type": "markdown",
   "id": "00dd3653-f3ba-450b-9add-8387d7d8eeab",
   "metadata": {},
   "source": [
    "<h2 style='color:firebrick'>Exercises</h2>\n",
    "<p>"
   ]
  },
  {
   "cell_type": "markdown",
   "id": "4fe1b2d7-8ead-4435-aba6-f659d2688623",
   "metadata": {},
   "source": [
    "<p>Write a Python function that takes a name as an argument and prints that name."
   ]
  },
  {
   "cell_type": "code",
   "execution_count": 175,
   "id": "94124122-7796-40cd-ab17-a098389058ac",
   "metadata": {},
   "outputs": [
    {
     "name": "stdin",
     "output_type": "stream",
     "text": [
      "escreva seu nome:  asdasd\n"
     ]
    },
    {
     "name": "stdout",
     "output_type": "stream",
     "text": [
      "Oi asdasd, bom dia\n"
     ]
    }
   ],
   "source": [
    "def sayhi(n):\n",
    "    print(f'Oi {n}, bom dia')\n",
    "def namin():\n",
    "    x = input('escreva seu nome: ')\n",
    "    sayhi(x)\n",
    "namin()"
   ]
  },
  {
   "cell_type": "markdown",
   "id": "2f94ba1e-768d-43c7-ab81-70ed6d2a1240",
   "metadata": {},
   "source": [
    "<p>Write a Python function that takes a string as an argument and prints whether it\n",
    "is upper- or lowercase."
   ]
  },
  {
   "cell_type": "code",
   "execution_count": 176,
   "id": "919a679f-80d2-479d-9595-1ec68579b394",
   "metadata": {},
   "outputs": [],
   "source": [
    "def up_or_lo(n):\n",
    "    if(n.islower()): print('o texto é lowercase')\n",
    "    else: print('o texto é uppercase')"
   ]
  },
  {
   "cell_type": "code",
   "execution_count": 180,
   "id": "3c277df1-0be3-4ede-849b-11499c14b70d",
   "metadata": {},
   "outputs": [
    {
     "name": "stdout",
     "output_type": "stream",
     "text": [
      "o texto é lowercase\n"
     ]
    }
   ],
   "source": [
    "up_or_lo('andre')"
   ]
  },
  {
   "cell_type": "markdown",
   "id": "f9a0831d-8add-4a52-abe1-10945ea5d2e4",
   "metadata": {},
   "source": [
    "<p>Write a list comprehension that results in a list of every letter in the word smog‐\n",
    "tether capitalized."
   ]
  },
  {
   "cell_type": "code",
   "execution_count": 181,
   "id": "c1754a92-a240-4c20-8d01-f08bfda3a8b9",
   "metadata": {},
   "outputs": [],
   "source": [
    "cap = [ l.upper() for l in 'smog-tether' ]"
   ]
  },
  {
   "cell_type": "code",
   "execution_count": 182,
   "id": "aa2d2416-05f0-4cb6-badb-d853aa11c487",
   "metadata": {},
   "outputs": [
    {
     "name": "stdout",
     "output_type": "stream",
     "text": [
      "['S', 'M', 'O', 'G', '-', 'T', 'E', 'T', 'H', 'E', 'R']\n"
     ]
    }
   ],
   "source": [
    "print(cap)"
   ]
  },
  {
   "cell_type": "markdown",
   "id": "aa5174d3-08e2-41ef-938a-12d171c30a65",
   "metadata": {},
   "source": [
    "<p>Write a generator that alternates between returning Even and Odd."
   ]
  },
  {
   "cell_type": "code",
   "execution_count": 248,
   "id": "c18035fe-776c-4e89-b500-fe2d12c6f040",
   "metadata": {},
   "outputs": [],
   "source": [
    "def parouimpar():\n",
    "    par = 0\n",
    "    while True:\n",
    "        if par % 2 == 0: print('Essa é a vez do impar')\n",
    "        else: print('Essa é a vez do par')\n",
    "        par = par + 1\n",
    "        yield par\n",
    "\n",
    "    \n",
    "valor = parouimpar()"
   ]
  },
  {
   "cell_type": "code",
   "execution_count": 249,
   "id": "fe95f88d-8bf2-431d-a619-36a062145d9e",
   "metadata": {},
   "outputs": [
    {
     "name": "stdout",
     "output_type": "stream",
     "text": [
      "Essa é a vez do impar\n"
     ]
    },
    {
     "data": {
      "text/plain": [
       "1"
      ]
     },
     "execution_count": 249,
     "metadata": {},
     "output_type": "execute_result"
    }
   ],
   "source": [
    "next(valor)"
   ]
  },
  {
   "cell_type": "code",
   "execution_count": 250,
   "id": "5b1d55ec-e4f2-4f8b-b96a-73318229104f",
   "metadata": {},
   "outputs": [
    {
     "name": "stdout",
     "output_type": "stream",
     "text": [
      "Essa é a vez do par\n"
     ]
    },
    {
     "data": {
      "text/plain": [
       "2"
      ]
     },
     "execution_count": 250,
     "metadata": {},
     "output_type": "execute_result"
    }
   ],
   "source": [
    "next(valor)"
   ]
  },
  {
   "cell_type": "code",
   "execution_count": 251,
   "id": "5dcc9c08-deb1-4d89-b48a-e376241d842a",
   "metadata": {},
   "outputs": [
    {
     "name": "stdout",
     "output_type": "stream",
     "text": [
      "Essa é a vez do impar\n"
     ]
    },
    {
     "data": {
      "text/plain": [
       "3"
      ]
     },
     "execution_count": 251,
     "metadata": {},
     "output_type": "execute_result"
    }
   ],
   "source": [
    "next(valor)"
   ]
  }
 ],
 "metadata": {
  "kernelspec": {
   "display_name": "Python 3 (ipykernel)",
   "language": "python",
   "name": "python3"
  },
  "language_info": {
   "codemirror_mode": {
    "name": "ipython",
    "version": 3
   },
   "file_extension": ".py",
   "mimetype": "text/x-python",
   "name": "python",
   "nbconvert_exporter": "python",
   "pygments_lexer": "ipython3",
   "version": "3.10.12"
  }
 },
 "nbformat": 4,
 "nbformat_minor": 5
}
