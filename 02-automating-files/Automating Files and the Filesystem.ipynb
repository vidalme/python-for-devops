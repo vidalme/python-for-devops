{
 "cells": [
  {
   "cell_type": "markdown",
   "id": "e36c0b24-37ce-477b-bcab-b7133b0b2d85",
   "metadata": {},
   "source": [
    "<h3>Automating Files and the Filesystem</h3>"
   ]
  },
  {
   "cell_type": "markdown",
   "id": "5f083f89-b0b9-4979-90dd-2bd553e555bc",
   "metadata": {},
   "source": [
    "<h2 style='color:gold'>Reading and Writing Files</h2>"
   ]
  },
  {
   "cell_type": "markdown",
   "id": "92e9e540-40e0-450c-8d67-a6558c565250",
   "metadata": {},
   "source": [
    "<h4 style='color:DodgerBlue'>Working with files</h4>\n",
    "<p style='color:Turquoise'>Podemos usar a função open para criar um file object qu tem metodos para ler e alterar dados dentro de um arquivo. A função recebe dois argumentos, path do arquivo e o modo ('r' read, 'w'write). O objeto tem um metodo 'read' para ler o arquivo."
   ]
  },
  {
   "cell_type": "code",
   "execution_count": 1,
   "id": "15fa58ae-c8fe-43da-a54b-27f31ab61f90",
   "metadata": {},
   "outputs": [],
   "source": [
    "file_path = 'projetofenix.txt'"
   ]
  },
  {
   "cell_type": "code",
   "execution_count": 2,
   "id": "45428d07-27ec-40e9-b40b-5d3fd4dc360d",
   "metadata": {},
   "outputs": [],
   "source": [
    "open_file = open(file_path,'r')"
   ]
  },
  {
   "cell_type": "code",
   "execution_count": 3,
   "id": "51be06b1-deec-40d4-b408-74d4dfc12e0c",
   "metadata": {},
   "outputs": [],
   "source": [
    "text = open_file.read()"
   ]
  },
  {
   "cell_type": "code",
   "execution_count": 4,
   "id": "01dd1372-ef18-4249-87dc-6a9a8ba1f585",
   "metadata": {},
   "outputs": [
    {
     "data": {
      "text/plain": [
       "859239"
      ]
     },
     "execution_count": 4,
     "metadata": {},
     "output_type": "execute_result"
    }
   ],
   "source": [
    "len(text)"
   ]
  },
  {
   "cell_type": "code",
   "execution_count": 5,
   "id": "d3d06e93-4d8d-40d2-bcd0-f31224c6e7b0",
   "metadata": {},
   "outputs": [
    {
     "data": {
      "text/plain": [
       "'r'"
      ]
     },
     "execution_count": 5,
     "metadata": {},
     "output_type": "execute_result"
    }
   ],
   "source": [
    "text[56]"
   ]
  },
  {
   "cell_type": "code",
   "execution_count": 6,
   "id": "d1f87bc9-b67a-4a28-83c9-102e3311e3c3",
   "metadata": {},
   "outputs": [
    {
     "data": {
      "text/plain": [
       "<_io.TextIOWrapper name='projetofenix.txt' mode='r' encoding='UTF-8'>"
      ]
     },
     "execution_count": 6,
     "metadata": {},
     "output_type": "execute_result"
    }
   ],
   "source": [
    "open_file"
   ]
  },
  {
   "cell_type": "code",
   "execution_count": 7,
   "id": "43a0e06b-5fec-4433-b618-37821ff6bc26",
   "metadata": {},
   "outputs": [],
   "source": [
    "open_file.close()"
   ]
  },
  {
   "cell_type": "markdown",
   "id": "7a9cc024-b4ed-43ef-a65c-eec5d4483d01",
   "metadata": {},
   "source": [
    "<p style='color:Turquoise'> O metodo readlines le todo o arquivo e separa cada linha em um item "
   ]
  },
  {
   "cell_type": "code",
   "execution_count": 8,
   "id": "106233a3-f441-426d-ac16-83a57fcb2e95",
   "metadata": {},
   "outputs": [],
   "source": [
    "open_file = open(file_path,'r')"
   ]
  },
  {
   "cell_type": "code",
   "execution_count": 9,
   "id": "4c621a3a-7910-42e1-a632-851cf4d43e77",
   "metadata": {},
   "outputs": [],
   "source": [
    "text = open_file.readlines()"
   ]
  },
  {
   "cell_type": "code",
   "execution_count": 10,
   "id": "219b1dc2-4f14-49c9-9446-c743b71200c8",
   "metadata": {},
   "outputs": [
    {
     "data": {
      "text/plain": [
       "14030"
      ]
     },
     "execution_count": 10,
     "metadata": {},
     "output_type": "execute_result"
    }
   ],
   "source": [
    "len(text)"
   ]
  },
  {
   "cell_type": "code",
   "execution_count": 11,
   "id": "9ba7571b-8f11-4264-9787-7db695def141",
   "metadata": {},
   "outputs": [
    {
     "data": {
      "text/plain": [
       "'Terça-feira, 2 de setembro\\n'"
      ]
     },
     "execution_count": 11,
     "metadata": {},
     "output_type": "execute_result"
    }
   ],
   "source": [
    "text[100]"
   ]
  },
  {
   "cell_type": "code",
   "execution_count": 12,
   "id": "4e318ff4-6279-4f44-aca6-f37e2496f11e",
   "metadata": {},
   "outputs": [],
   "source": [
    "open_file.close()"
   ]
  },
  {
   "cell_type": "markdown",
   "id": "1f7bfb55-34d9-4266-aac9-a95efa422290",
   "metadata": {},
   "source": [
    "<p style='color:Turquoise'> Um comando conveniente é o with, com ele não precisamos escopamos o uso do arquivo e não precisamos fecha-lo apos o uso"
   ]
  },
  {
   "cell_type": "code",
   "execution_count": 13,
   "id": "af7c3c6c-9a3a-48ec-8861-2f9949a22f3b",
   "metadata": {},
   "outputs": [],
   "source": [
    "with open (file_path,'r') as open_file:\n",
    "    text = open_file.readlines()"
   ]
  },
  {
   "cell_type": "code",
   "execution_count": 14,
   "id": "799367c5-e36c-46ef-a49c-0c4116b60f82",
   "metadata": {},
   "outputs": [
    {
     "data": {
      "text/plain": [
       "'“Apenas um campo não faz sentido?”, pergunto, levantando as\\n'"
      ]
     },
     "execution_count": 14,
     "metadata": {},
     "output_type": "execute_result"
    }
   ],
   "source": [
    "text[1030]"
   ]
  },
  {
   "cell_type": "code",
   "execution_count": 15,
   "id": "fdb9c672-5fac-4ddb-bf9d-3253e3500b50",
   "metadata": {},
   "outputs": [
    {
     "data": {
      "text/plain": [
       "True"
      ]
     },
     "execution_count": 15,
     "metadata": {},
     "output_type": "execute_result"
    }
   ],
   "source": [
    "open_file.closed"
   ]
  },
  {
   "cell_type": "markdown",
   "id": "09bfbcea-7218-493c-9c30-d69670494e87",
   "metadata": {},
   "source": [
    "<p style='color:Turquoise'> Todas as quebras de linha sao convertidas para \\n no python. Se tentarmos abrir binaries provavelmente iremos corrompelos(tipo um jpeg ou pdf), para isso precisamos usar o modo 'b'."
   ]
  },
  {
   "cell_type": "code",
   "execution_count": 16,
   "id": "c19cfa04-cca8-43ab-b797-adeb6e2d1cfc",
   "metadata": {},
   "outputs": [],
   "source": [
    "file_path = 'projetofenix.pdf'"
   ]
  },
  {
   "cell_type": "code",
   "execution_count": 17,
   "id": "5fcc6bf3-2b96-4f02-b075-c70cb3c39f0d",
   "metadata": {},
   "outputs": [],
   "source": [
    "with open(file_path,'rb') as open_file:\n",
    "    btext = open_file.read()"
   ]
  },
  {
   "cell_type": "code",
   "execution_count": 18,
   "id": "7e8ce9cb-c56e-41f4-a699-661fa7bb06fa",
   "metadata": {},
   "outputs": [
    {
     "data": {
      "text/plain": [
       "37"
      ]
     },
     "execution_count": 18,
     "metadata": {},
     "output_type": "execute_result"
    }
   ],
   "source": [
    "btext[0]"
   ]
  },
  {
   "cell_type": "code",
   "execution_count": 19,
   "id": "ca16d32b-389a-4db7-a391-d56289096c6b",
   "metadata": {},
   "outputs": [
    {
     "data": {
      "text/plain": [
       "b\"%PDF-1.4\\n%\\xe2\\xe3\\xcf\\xd3\\n1 0 obj<</Author(\\xfe\\xff\\x00G\\x00e\\x00n\\x00e\\x00 \\x00K\\x00i\\x00m\\x00 \\x00&\\x00 \\x00K\\x00e\\x00v\\x00i\\x00n\\x00 \\x00B\\x00e\\x00h\\x00r\\x00 \\x00&\\x00 \\x00G\\x00e\\x00o\\x00r\\x00g\\x00e\\x00 \\x00S\\x00p\\x00a\\x00f\\x00f\\x00o\\x00r\\x00d)/CreationDate(D:20211023015803+00'00')/Creator(\\xfe\\xff\\x00c\\x00a\\x00l\\x00i\\x00b\\x00r\\x00e\\x00 \\x00\\\\(\\x004\\x00.\\x009\\x009\\x00.\\x004\\x00\\\\)\\x00 \\x00[\\x00h\\x00t\\x00t\\x00p\\x00s\\x00:\\x00/\\x00/\\x00c\\x00a\\x00l\\x00i\\x00b\\x00r\\x00e\\x00-\\x00e\\x00b\\x00o\\x00o\\x00k\\x00.\\x00\""
      ]
     },
     "execution_count": 19,
     "metadata": {},
     "output_type": "execute_result"
    }
   ],
   "source": [
    "btext[:245]"
   ]
  },
  {
   "cell_type": "markdown",
   "id": "c0a7f6d6-257f-4f30-9382-762d3884106a",
   "metadata": {},
   "source": [
    "<p style='color:Turquoise'> Podemos escrever nos arquivos com o modo 'w' write. No exemplo vamos setar um enviroment em run time, vamos criar o arquivo .envrc que vai ser usar os comandos para setar o ambiente \"STAGE=PROD\" e a id para \"TABLE_ID=token-storage-1234\""
   ]
  },
  {
   "cell_type": "code",
   "execution_count": 20,
   "id": "1565dd05-95cc-46ff-86b7-f860e16070a0",
   "metadata": {},
   "outputs": [],
   "source": [
    "text = '''export STAGE=PROD export TABLE_ID=token-storage-1234'''\n"
   ]
  },
  {
   "cell_type": "code",
   "execution_count": 21,
   "id": "399ac756-19b4-49b4-a8cb-ae33b5d6a478",
   "metadata": {},
   "outputs": [],
   "source": [
    "with open('.envrc','w') as open_file:\n",
    "    open_file.write(text) "
   ]
  },
  {
   "cell_type": "code",
   "execution_count": 22,
   "id": "d733baf1-a772-46d9-aed0-f51fe74ecc51",
   "metadata": {},
   "outputs": [
    {
     "name": "stdout",
     "output_type": "stream",
     "text": [
      "export STAGE=PROD export TABLE_ID=token-storage-1234"
     ]
    }
   ],
   "source": [
    "!cat .envrc"
   ]
  },
  {
   "cell_type": "code",
   "execution_count": 23,
   "id": "42fd056d-4ddc-4bd0-99a6-a397899fcbd8",
   "metadata": {},
   "outputs": [],
   "source": [
    "import subprocess\n",
    "#subprocess.run(['python','tests.py'])"
   ]
  },
  {
   "cell_type": "code",
   "execution_count": 24,
   "id": "2eb9dd69-ae2f-4b9f-9502-d9e48f5b2fe1",
   "metadata": {},
   "outputs": [
    {
     "name": "stdout",
     "output_type": "stream",
     "text": [
      "export STAGE=PROD export TABLE_ID=token-storage-1234"
     ]
    },
    {
     "data": {
      "text/plain": [
       "CompletedProcess(args=['cat', '.envrc'], returncode=0)"
      ]
     },
     "execution_count": 24,
     "metadata": {},
     "output_type": "execute_result"
    }
   ],
   "source": [
    "subprocess.run(['cat','.envrc'])"
   ]
  },
  {
   "cell_type": "markdown",
   "id": "cc28ea7a-ff89-485c-8f54-2f56b5908708",
   "metadata": {},
   "source": [
    "<p style='color:Turquoise'> Vamos cobrir mais a fundo pathlib (trata o objeto arquivo por debaixo dos panos) no capitulo 3, mas agora ja vamos apresentar 2 fucoes muito importantes, para ler e escrever"
   ]
  },
  {
   "cell_type": "code",
   "execution_count": 25,
   "id": "271d93da-1238-4f13-b862-eccb516091ee",
   "metadata": {},
   "outputs": [],
   "source": [
    "import pathlib"
   ]
  },
  {
   "cell_type": "code",
   "execution_count": 26,
   "id": "879ba569-3ecb-4b64-af5c-4fc75881114a",
   "metadata": {},
   "outputs": [],
   "source": [
    "path = pathlib.Path('t.py')"
   ]
  },
  {
   "cell_type": "code",
   "execution_count": 27,
   "id": "c90bfcd3-c1f5-4901-8764-1fafc67a8ee0",
   "metadata": {},
   "outputs": [
    {
     "ename": "FileNotFoundError",
     "evalue": "[Errno 2] No such file or directory: 't.py'",
     "output_type": "error",
     "traceback": [
      "\u001b[0;31m---------------------------------------------------------------------------\u001b[0m",
      "\u001b[0;31mFileNotFoundError\u001b[0m                         Traceback (most recent call last)",
      "Cell \u001b[0;32mIn[27], line 1\u001b[0m\n\u001b[0;32m----> 1\u001b[0m \u001b[43mpath\u001b[49m\u001b[38;5;241;43m.\u001b[39;49m\u001b[43mread_text\u001b[49m\u001b[43m(\u001b[49m\u001b[43m)\u001b[49m\n",
      "File \u001b[0;32m/usr/lib/python3.12/pathlib.py:1027\u001b[0m, in \u001b[0;36mPath.read_text\u001b[0;34m(self, encoding, errors)\u001b[0m\n\u001b[1;32m   1023\u001b[0m \u001b[38;5;250m\u001b[39m\u001b[38;5;124;03m\"\"\"\u001b[39;00m\n\u001b[1;32m   1024\u001b[0m \u001b[38;5;124;03mOpen the file in text mode, read it, and close the file.\u001b[39;00m\n\u001b[1;32m   1025\u001b[0m \u001b[38;5;124;03m\"\"\"\u001b[39;00m\n\u001b[1;32m   1026\u001b[0m encoding \u001b[38;5;241m=\u001b[39m io\u001b[38;5;241m.\u001b[39mtext_encoding(encoding)\n\u001b[0;32m-> 1027\u001b[0m \u001b[38;5;28;01mwith\u001b[39;00m \u001b[38;5;28;43mself\u001b[39;49m\u001b[38;5;241;43m.\u001b[39;49m\u001b[43mopen\u001b[49m\u001b[43m(\u001b[49m\u001b[43mmode\u001b[49m\u001b[38;5;241;43m=\u001b[39;49m\u001b[38;5;124;43m'\u001b[39;49m\u001b[38;5;124;43mr\u001b[39;49m\u001b[38;5;124;43m'\u001b[39;49m\u001b[43m,\u001b[49m\u001b[43m \u001b[49m\u001b[43mencoding\u001b[49m\u001b[38;5;241;43m=\u001b[39;49m\u001b[43mencoding\u001b[49m\u001b[43m,\u001b[49m\u001b[43m \u001b[49m\u001b[43merrors\u001b[49m\u001b[38;5;241;43m=\u001b[39;49m\u001b[43merrors\u001b[49m\u001b[43m)\u001b[49m \u001b[38;5;28;01mas\u001b[39;00m f:\n\u001b[1;32m   1028\u001b[0m     \u001b[38;5;28;01mreturn\u001b[39;00m f\u001b[38;5;241m.\u001b[39mread()\n",
      "File \u001b[0;32m/usr/lib/python3.12/pathlib.py:1013\u001b[0m, in \u001b[0;36mPath.open\u001b[0;34m(self, mode, buffering, encoding, errors, newline)\u001b[0m\n\u001b[1;32m   1011\u001b[0m \u001b[38;5;28;01mif\u001b[39;00m \u001b[38;5;124m\"\u001b[39m\u001b[38;5;124mb\u001b[39m\u001b[38;5;124m\"\u001b[39m \u001b[38;5;129;01mnot\u001b[39;00m \u001b[38;5;129;01min\u001b[39;00m mode:\n\u001b[1;32m   1012\u001b[0m     encoding \u001b[38;5;241m=\u001b[39m io\u001b[38;5;241m.\u001b[39mtext_encoding(encoding)\n\u001b[0;32m-> 1013\u001b[0m \u001b[38;5;28;01mreturn\u001b[39;00m \u001b[43mio\u001b[49m\u001b[38;5;241;43m.\u001b[39;49m\u001b[43mopen\u001b[49m\u001b[43m(\u001b[49m\u001b[38;5;28;43mself\u001b[39;49m\u001b[43m,\u001b[49m\u001b[43m \u001b[49m\u001b[43mmode\u001b[49m\u001b[43m,\u001b[49m\u001b[43m \u001b[49m\u001b[43mbuffering\u001b[49m\u001b[43m,\u001b[49m\u001b[43m \u001b[49m\u001b[43mencoding\u001b[49m\u001b[43m,\u001b[49m\u001b[43m \u001b[49m\u001b[43merrors\u001b[49m\u001b[43m,\u001b[49m\u001b[43m \u001b[49m\u001b[43mnewline\u001b[49m\u001b[43m)\u001b[49m\n",
      "\u001b[0;31mFileNotFoundError\u001b[0m: [Errno 2] No such file or directory: 't.py'"
     ]
    }
   ],
   "source": [
    "path.read_text()"
   ]
  },
  {
   "cell_type": "markdown",
   "id": "ac28b69d-de15-4944-a36f-f2d2398bbfc5",
   "metadata": {},
   "source": [
    "<p style='color:Turquoise'> O metodo para usar com binarios é 'read_bytes'<br>\n",
    "Para criar novos arquivos ou overwrite antigos, existem os metodos para text e binarios"
   ]
  },
  {
   "cell_type": "code",
   "execution_count": null,
   "id": "8ec56418-1924-40ed-8e14-6ef0830ce8a3",
   "metadata": {},
   "outputs": [],
   "source": [
    "path = pathlib.Path('configdealgo.config')"
   ]
  },
  {
   "cell_type": "code",
   "execution_count": null,
   "id": "72618836-36a7-42f3-a070-5d5ff9acbfca",
   "metadata": {},
   "outputs": [],
   "source": [
    "path.write_text('LOG:Debug')"
   ]
  },
  {
   "cell_type": "markdown",
   "id": "ef221b1f-b665-48b3-8642-0b824592aade",
   "metadata": {},
   "source": [
    "<p style='color:Turquoise'> Para trabalharmops com JSON ou outros formatos um pouco mais complexos, usando os objetos de arquivo e metodos read, write, readlines... deixa nossa data meio suja e trabalhosa de se lidar, para simplificar muito podemos usar o modulo 'json'<br>\n",
    "No exemplo vamos usar um arquivo policy AWS IAM que são em formato JSON.  "
   ]
  },
  {
   "cell_type": "code",
   "execution_count": null,
   "id": "939f4c27-6ffe-47dd-96e4-ac0dadd0fcaa",
   "metadata": {},
   "outputs": [],
   "source": [
    "import json"
   ]
  },
  {
   "cell_type": "code",
   "execution_count": null,
   "id": "33a9ffff-17eb-43d0-840f-3e9f7e6ad600",
   "metadata": {},
   "outputs": [],
   "source": [
    "with open('service-policy.json')as opened_file:\n",
    "    policy = json.load(opened_file)"
   ]
  },
  {
   "cell_type": "markdown",
   "id": "4ab97974-4a18-438d-889e-369c740472de",
   "metadata": {},
   "source": [
    "<p style='color:Turquoise'>usamos o modulo <b style=\"font-size:1.5rem\">pprint</b> para parsear o json, esse metodo pprint pode deixar qualquer objeto python mais legivel"
   ]
  },
  {
   "cell_type": "code",
   "execution_count": null,
   "id": "050adca3-e702-4454-9a76-82a7a538b65c",
   "metadata": {},
   "outputs": [],
   "source": [
    "from pprint import pprint"
   ]
  },
  {
   "cell_type": "code",
   "execution_count": null,
   "id": "2e77600f-93c6-4a40-8bb2-2e88055d8a82",
   "metadata": {},
   "outputs": [],
   "source": [
    "pprint(policy)"
   ]
  },
  {
   "cell_type": "markdown",
   "id": "31a822da-c5e8-40cc-b840-eb0fb0e28030",
   "metadata": {},
   "source": [
    "<p style='color:Turquoise'>Para converter um python dictioary num json usamos o metodo dump do json module. É assim que atualizariamos essa policy da AWS IAM"
   ]
  },
  {
   "cell_type": "code",
   "execution_count": null,
   "id": "26c0890c-ba3e-4ceb-8d59-9eb2054d727f",
   "metadata": {},
   "outputs": [],
   "source": [
    "with open('service-policy.json','w') as opened_file:\n",
    "    policy = json.dump(policy,opened_file)"
   ]
  },
  {
   "cell_type": "markdown",
   "id": "b942073f-8580-4c8b-95a9-20a47e3d0cbf",
   "metadata": {},
   "source": [
    "<p style='color:Turquoise'>Yaml é o superset do JSON que usa identacao para marcar os dados assim como python, \n",
    "a libraary mais utilizada para trabalharo com yaml é a <b style=\"font-size:1.5rem\">PyYAML</b><br>\n",
    "Na esta na livraria padrao do python, temos que instalar, pip install pyyaml"
   ]
  },
  {
   "cell_type": "code",
   "execution_count": null,
   "id": "416c89be-9ca4-4440-b91a-333269bbaa5a",
   "metadata": {},
   "outputs": [],
   "source": [
    "import yaml"
   ]
  },
  {
   "cell_type": "code",
   "execution_count": null,
   "id": "04f96027-3066-4f73-af88-4df5821b8d4c",
   "metadata": {},
   "outputs": [],
   "source": [
    "with open('service-policy.json','r') as opened_file:\n",
    "    verify_apache = yaml.safe_load(opened_file)"
   ]
  },
  {
   "cell_type": "code",
   "execution_count": null,
   "id": "4900795c-1de5-45ca-bfd2-06384e69e967",
   "metadata": {},
   "outputs": [],
   "source": [
    "print(verify_apache)"
   ]
  },
  {
   "cell_type": "markdown",
   "id": "c1c309d4-17fd-4a0e-b89b-222a8661525a",
   "metadata": {},
   "source": [
    "<h2 style='color:gold'>Dealing with Large Files</h2>"
   ]
  },
  {
   "cell_type": "markdown",
   "id": "5e73976f-1ebe-4892-817e-def59a20f7ac",
   "metadata": {},
   "source": [
    "<p style='color:Turquoise'>Quando vamos lidar com arquivos maiores precisamos fazer uso de esrategias mais performaticas, usar o garbage collector do python é uma excelente alternativa, pois nos ajuda a abrir um arquivo e utilizar linha por linha, carregando e depois jogando fora, dessa forma liberando memoria a cada linha processada"
   ]
  },
  {
   "cell_type": "code",
   "execution_count": null,
   "id": "49d05486-b67a-4c65-8b23-9bf1fc5a7fb6",
   "metadata": {},
   "outputs": [],
   "source": [
    "with open('projetofenix.txt','r') as source_file:\n",
    "    with open('projetofenix_curto.txt','w') as target_file:\n",
    "        for linha in source_file:\n",
    "            target_file.write(linha)"
   ]
  },
  {
   "cell_type": "code",
   "execution_count": null,
   "id": "0f039007-79bb-4e39-991e-2cf8dcea1a0a",
   "metadata": {},
   "outputs": [],
   "source": []
  },
  {
   "cell_type": "markdown",
   "id": "48c16a62-9a4f-49b6-a463-19e49e4b4b99",
   "metadata": {},
   "source": [
    "<h2 style='color:gold'>Encrypting Text</h2>"
   ]
  },
  {
   "cell_type": "markdown",
   "id": "61fd5861-eec4-4cfd-937b-2c486b54d8e2",
   "metadata": {},
   "source": [
    "<h4 style='color:DodgerBlue'>Hashing with Hashlib</h4>"
   ]
  },
  {
   "cell_type": "code",
   "execution_count": null,
   "id": "628a2d79-332e-4128-93f3-ea0d91ba3b94",
   "metadata": {},
   "outputs": [],
   "source": [
    "import hashlib"
   ]
  },
  {
   "cell_type": "code",
   "execution_count": null,
   "id": "a1c6fb1d-575d-425d-817c-2bbcfe7eb9ee",
   "metadata": {},
   "outputs": [],
   "source": [
    "secret = \"This is the password or document text\""
   ]
  },
  {
   "cell_type": "code",
   "execution_count": null,
   "id": "4b64fb5d-f3eb-451a-b35f-c71a937c4dc5",
   "metadata": {},
   "outputs": [],
   "source": [
    "bsecret = secret.encode()"
   ]
  },
  {
   "cell_type": "code",
   "execution_count": null,
   "id": "fdbfce61-a353-4811-8121-e95a04bb59e3",
   "metadata": {},
   "outputs": [],
   "source": [
    "m = hashlib.md5()"
   ]
  },
  {
   "cell_type": "code",
   "execution_count": null,
   "id": "bee218b1-b46e-4ba6-9b12-db57f7fa805e",
   "metadata": {},
   "outputs": [],
   "source": [
    "m.update(bsecret)"
   ]
  },
  {
   "cell_type": "code",
   "execution_count": null,
   "id": "35b32586-1448-46f6-bdcd-7933ef69eadb",
   "metadata": {},
   "outputs": [],
   "source": [
    "m.digest()"
   ]
  },
  {
   "cell_type": "markdown",
   "id": "c0e781d0-2b88-4977-974f-9d57641ef8fe",
   "metadata": {},
   "source": [
    "<h4 style='color:DodgerBlue'>Encryption with Cryptography</h4>\n",
    "<p style='color:Turquoise'>Muito popular o cryptography, usa uma serie de algoritimos de encription mas é simetrico, ou seja, sender e o receiver precisam ter a chave, o que se torna menos seguro. Mas é simples e rapido de usar, tornando um metodo utilizado para enviar arquivos grandes."
   ]
  },
  {
   "cell_type": "code",
   "execution_count": 32,
   "id": "ed4e81f8-5dec-44c4-a644-0d90a7a9b866",
   "metadata": {},
   "outputs": [],
   "source": [
    "from cryptography.fernet import Fernet"
   ]
  },
  {
   "cell_type": "code",
   "execution_count": 33,
   "id": "288354dc-c23c-4b0e-9f96-0dfb4a2aea70",
   "metadata": {},
   "outputs": [],
   "source": [
    "key = Fernet.generate_key()"
   ]
  },
  {
   "cell_type": "code",
   "execution_count": 34,
   "id": "efb47da1-1d62-4441-a720-544b534b637a",
   "metadata": {},
   "outputs": [
    {
     "data": {
      "text/plain": [
       "b'Mos96yHBUqIpYlA52kcKUEX_8hOzk0-TDXOKHovT5fM='"
      ]
     },
     "execution_count": 34,
     "metadata": {},
     "output_type": "execute_result"
    }
   ],
   "source": [
    "key"
   ]
  },
  {
   "cell_type": "markdown",
   "id": "7a425251-52db-4fab-b2c8-ab37a778c017",
   "metadata": {},
   "source": [
    "\n",
    "<p style='color:Turquoise'>Agora que tempos a chave, vamos encripta-la e de preferencia guarda em um local seguro, fazemos isso utilizando o modulo Fernet"
   ]
  },
  {
   "cell_type": "code",
   "execution_count": 45,
   "id": "fa97ab3a-9221-499a-974f-444bf4c2ec76",
   "metadata": {},
   "outputs": [],
   "source": [
    "#encypt key\n",
    "f = Fernet(key)"
   ]
  },
  {
   "cell_type": "code",
   "execution_count": 47,
   "id": "d8dba22d-e0f2-4e6a-be54-556d611ed5fa",
   "metadata": {},
   "outputs": [],
   "source": [
    "# the data we will be moving\n",
    "message = b\"Secrets go here\""
   ]
  },
  {
   "cell_type": "code",
   "execution_count": 48,
   "id": "b1e7cf82-7da6-4a93-b1ee-e74e53b48f67",
   "metadata": {},
   "outputs": [],
   "source": [
    "#encrypt the data, could be anything\n",
    "encrypted = f.encrypt(message)"
   ]
  },
  {
   "cell_type": "code",
   "execution_count": 41,
   "id": "b9d67657-71ce-4078-9dae-4c6be8f1bf24",
   "metadata": {},
   "outputs": [
    {
     "data": {
      "text/plain": [
       "b'gAAAAABl9uNq0jzlGASuk0kG5R6gIqKq8bO-Vr_RcF8jCzEmkqiBlhLHjDEtVE1ady13uVJPMA_26QumUrknnwqRqAsy_jYaAg=='"
      ]
     },
     "execution_count": 41,
     "metadata": {},
     "output_type": "execute_result"
    }
   ],
   "source": [
    "encrypted"
   ]
  },
  {
   "cell_type": "markdown",
   "id": "8001374f-9756-4267-90b5-9eee110c0500",
   "metadata": {},
   "source": [
    "\n",
    "<p style='color:Turquoise'>Encriptação Asimetrica de chaves, é um metodo mais complexo e seguro onde temos, 2 chaves, uma publica e uma privada. Todos podem ter a publica, mas a privada é reservada para quem pode abrir e alterar o conteudo. RSA é a mais utilizada. "
   ]
  },
  {
   "cell_type": "code",
   "execution_count": 49,
   "id": "7f15655e-c575-4163-8049-f2c5892e121f",
   "metadata": {},
   "outputs": [],
   "source": [
    "from cryptography.hazmat.backends import default_backend"
   ]
  },
  {
   "cell_type": "code",
   "execution_count": 50,
   "id": "cec98b05-aa48-47fc-a9f7-0d394860ec55",
   "metadata": {},
   "outputs": [],
   "source": [
    "from cryptography.hazmat.primitives.asymmetric import rsa"
   ]
  },
  {
   "cell_type": "code",
   "execution_count": 51,
   "id": "7bc2c9c3-7c8d-4ef5-85de-322af6309dc6",
   "metadata": {},
   "outputs": [],
   "source": [
    "private_key = rsa.generate_private_key(public_exponent=65537,\n",
    " key_size=4096,\n",
    "backend=default_backend())"
   ]
  },
  {
   "cell_type": "code",
   "execution_count": 52,
   "id": "6e1ecbad-0e10-4d66-ab89-bd14b9d00476",
   "metadata": {},
   "outputs": [
    {
     "data": {
      "text/plain": [
       "<cryptography.hazmat.bindings._rust.openssl.rsa.RSAPrivateKey at 0x7fab47bc4330>"
      ]
     },
     "execution_count": 52,
     "metadata": {},
     "output_type": "execute_result"
    }
   ],
   "source": [
    "private_key"
   ]
  },
  {
   "cell_type": "code",
   "execution_count": 53,
   "id": "bdb19d87-8a18-4c93-8090-ae4635d731ac",
   "metadata": {},
   "outputs": [],
   "source": [
    "public_key = private_key.public_key"
   ]
  },
  {
   "cell_type": "code",
   "execution_count": 56,
   "id": "395b5546-050c-4cc0-bd87-7a5049fce531",
   "metadata": {},
   "outputs": [],
   "source": [
    "public_key = private_key.public_key()"
   ]
  },
  {
   "cell_type": "code",
   "execution_count": 57,
   "id": "cb9b3b8e-4554-4f76-a48b-d980d7bf4089",
   "metadata": {},
   "outputs": [
    {
     "data": {
      "text/plain": [
       "<cryptography.hazmat.bindings._rust.openssl.rsa.RSAPublicKey at 0x7fab47bc42f0>"
      ]
     },
     "execution_count": 57,
     "metadata": {},
     "output_type": "execute_result"
    }
   ],
   "source": [
    "public_key"
   ]
  },
  {
   "cell_type": "markdown",
   "id": "ea55e001-1d04-4434-b3dd-127247628bee",
   "metadata": {},
   "source": [
    "<p style='color:Turquoise'> Usamos a chave publica para encriptar"
   ]
  },
  {
   "cell_type": "code",
   "execution_count": 58,
   "id": "5ee931fc-0314-4892-a0db-272f8a66398f",
   "metadata": {},
   "outputs": [],
   "source": [
    "#mensagem para ser encriptada\n",
    "message = b\"More secrets go here\""
   ]
  },
  {
   "cell_type": "code",
   "execution_count": 59,
   "id": "321deb11-c1aa-496e-9368-b21a27533f5f",
   "metadata": {},
   "outputs": [],
   "source": [
    "from cryptography.hazmat.primitives.asymmetric import padding"
   ]
  },
  {
   "cell_type": "code",
   "execution_count": 60,
   "id": "691b54cd-2ac8-4c16-9592-9cb00124243c",
   "metadata": {},
   "outputs": [],
   "source": [
    "from cryptography.hazmat.primitives import hashes"
   ]
  },
  {
   "cell_type": "code",
   "execution_count": 63,
   "id": "b90990ae-934b-499a-b324-7a80fc6fce42",
   "metadata": {},
   "outputs": [],
   "source": [
    "encrypted = public_key.encrypt(message,\n",
    " padding.OAEP(mgf=padding.MGF1(algorithm=hashes.SHA256()),\n",
    " algorithm=hashes.SHA256(),\n",
    " label=None))"
   ]
  },
  {
   "cell_type": "code",
   "execution_count": 64,
   "id": "e7c45e31-f261-47e7-9d98-28b8e3d7dc29",
   "metadata": {},
   "outputs": [
    {
     "data": {
      "text/plain": [
       "b\"~3E\\xf2\\x1dx\\\\\\x15G\\xb5\\x8bJX\\xbc \\xe8\\xb6\\xaci\\x89\\xee^\\x84\\xa2M\\xe1\\x9fD\\xb9\\xa6\\x12d\\x0b(r9\\xea\\xd1\\xd8\\xa1\\xbe1\\xa2\\x87\\x01\\xd1Nr\\xe6\\xb8\\x81&\\x89\\xda\\xb7\\xdb\\xa8\\x11\\xe8\\x9dL\\xafphq\\x02\\x17\\x0c\\xfb8?kd\\t&o\\x98\\x97\\xb0\\xbf\\t4Fj\\xd0\\xab\\xf0\\xd3\\xfe \\xa7\\xd8P\\xf3\\x0e\\x92\\xb1\\xab\\xd8\\x7fQx\\xb2\\xdb\\x17\\x1c\\xd5\\xfdTr\\x9fy\\xae\\xf6 \\xe8~0\\xf5m\\xfdTwtz<\\xd3\\x81\\xaa\\xde>\\xc9\\xd8(\\x85R\\x10o\\x99\\xbeJ\\x85\\xfbZ\\x1e\\xd6\\xa7=n\\x7f8\\x01\\xf9\\x99\\xcd\\x908\\xf97\\x9c\\xc3\\x8c7\\xa8s\\x8d\\x80f\\x82\\xcf\\xd7#\\xa9\\xeb\\x11/8kL\\xe0 \\x91\\x12\\xe8\\x89\\x89\\x0b\\xc5\\x08\\xe0\\xb84\\xc7\\xdbE\\x1f\\xc8\\x00\\xd7\\xc1lC\\x88\\xc5\\xca\\x9e\\x11H>\\xc2N\\xd9\\xbcOf\\x96\\x0f`-\\xb5w\\xc4$\\x884\\x06\\x17r\\xd4I\\xf3\\x9f\\xc4\\xae\\xab%\\xad\\xc3\\xb5\\x95\\xabI\\x0e&\\x03h\\xcb\\x8c\\xbf\\xa4n\\xbb/\\xc32\\x9d?\\xfbc\\xc4\\xea\\xe5t\\xab\\xac\\x02Q\\x8d#\\xb9\\xa0\\xf7N\\x1e\\xefpF\\xbd\\xaf\\x89\\xfc\\xf6\\x10fK\\xfb\\xa1\\xf6]K,,\\x92\\xf0rc\\xday\\xb8\\x04\\xe2\\xd2\\xc3\\xcdo\\xce\\xe30\\x0b{\\x15\\x06\\xd6\\x8f?\\x1e^c\\x98\\xd2\\x0e\\xbaGQC\\x7fn\\xbbK\\xfb\\xae\\xf1z\\x93o\\x9c\\x0er\\xa5'\\xe9<\\xcd\\xda\\xbe\\xab\\x8c\\x18\\x87 J\\x02I\\xaa\\x90l\\xd4 \\x0f\\xc6\\xea\\xb7\\x1f\\xda\\x04I\\x7f\\xb7\\xc5\\x93\\xc43'5hL\\xc6\\xff\\x01\\x05EBd\\xb8I9k\\xae\\x85@\\x9e\\xdbx\\x96f\\x14\\x96)\\xa1'\\xe4\\xcd\\xbc\\xae\\xc95\\xa1\\xbfLe\\xb7\\xa5R\\xd52\\xd0\\x8d)J\\xe7@s\\xc5\\xe2\\xcf\\x93\\xd3T b\\x8f\\x8a\\\\\\xc4{\\x19\\xbbL\\xfa&\\x17Z\\xf6\\xa11 \\xe9\\xd8\\xd2\\x88}\\xd8\\xee\\xaf\\xf4F\\xfa\\x82\\xff\\x0f\\xfa\\xaf=s\\x91\\xad\\xf0>\\xf4\\x87zX\\x08H\\xf1\\x02:\\x1b- \\x81z\\xd0\\xb3U8\\xa1l\\x9fl\\x9aX\\xa1\\x916\\x01\\xce\\x87K4\\xfb\\xc7w\\xbd\\x80\\xa3\\xe6s\\x9fu\\xd0X\""
      ]
     },
     "execution_count": 64,
     "metadata": {},
     "output_type": "execute_result"
    }
   ],
   "source": [
    "encrypted"
   ]
  },
  {
   "cell_type": "markdown",
   "id": "5d98d45d-b6d6-4f35-b527-859e6399b016",
   "metadata": {},
   "source": [
    "<p style='color:Turquoise'> Usamos a chave privada para desencriptar"
   ]
  },
  {
   "cell_type": "code",
   "execution_count": 65,
   "id": "6c2f3ccb-d0f0-4ff9-bde5-9e4ce98d3491",
   "metadata": {},
   "outputs": [],
   "source": [
    "decrypted = private_key.decrypt(encrypted,\n",
    " padding.OAEP(mgf=padding.MGF1(algorithm=hashes.SHA256()),\n",
    " algorithm=hashes.SHA256(),\n",
    " label=None))"
   ]
  },
  {
   "cell_type": "code",
   "execution_count": 66,
   "id": "c9c45fc2-4f07-4cad-a634-dad22cea3969",
   "metadata": {},
   "outputs": [
    {
     "data": {
      "text/plain": [
       "b'More secrets go here'"
      ]
     },
     "execution_count": 66,
     "metadata": {},
     "output_type": "execute_result"
    }
   ],
   "source": [
    "decrypted"
   ]
  },
  {
   "cell_type": "markdown",
   "id": "ac4a8a91-eca9-400e-a330-6429aa3a96e3",
   "metadata": {},
   "source": [
    "<h2 style='color:gold'>The os Module</h2>\n",
    "<p style='color:Turquoise'> O modulo OS lida com comandos low-level, que funcionam em windows e linux, porem temos que tomar cuidado com alguns comandos que podem ser diferentes dependendo do OS que a aplicação ira correr. <br>\n",
    "<b>Abaixo veremos os comandos mais utilizados/importantes do modulo 'ol'"
   ]
  },
  {
   "cell_type": "code",
   "execution_count": 72,
   "id": "67fc8f77-34e1-4411-932b-b4deb4e1a1bf",
   "metadata": {},
   "outputs": [],
   "source": [
    "import os"
   ]
  },
  {
   "cell_type": "code",
   "execution_count": 79,
   "id": "46b9c06c-8d82-4bdd-81bc-a89117482fdc",
   "metadata": {},
   "outputs": [
    {
     "data": {
      "text/plain": [
       "['projetofenix.pdf',\n",
       " 'O_Projeto_Fenix_-_Edicao_Comemorativa_-_Gene-Kim.pdf:Zone.Identifier',\n",
       " '.envrc_backup',\n",
       " 'what-devops.txt',\n",
       " 'projetofenix_curto.txt',\n",
       " 'verify-apache.yml',\n",
       " '.ipynb_checkpoints',\n",
       " 'tests.py',\n",
       " 'configdealgo.config',\n",
       " 'nomemuda',\n",
       " '.envrc',\n",
       " 'Automating Files and the Filesystem.ipynb',\n",
       " 'service-policy.json',\n",
       " 'projetofenix.txt']"
      ]
     },
     "execution_count": 79,
     "metadata": {},
     "output_type": "execute_result"
    }
   ],
   "source": [
    "os.listdir('.')"
   ]
  },
  {
   "cell_type": "code",
   "execution_count": 80,
   "id": "2c8a6c46-3ec0-4933-a883-23ecdb401494",
   "metadata": {},
   "outputs": [],
   "source": [
    "os.rename('nomemuda','mudanome')"
   ]
  },
  {
   "cell_type": "code",
   "execution_count": 81,
   "id": "f46631bd-6187-4fc1-a8d6-9ef1abc6cc6c",
   "metadata": {},
   "outputs": [],
   "source": [
    "os.chmod('mudanome', 0o777)"
   ]
  },
  {
   "cell_type": "code",
   "execution_count": 82,
   "id": "948b2153-f080-446f-8d79-27b8233b736f",
   "metadata": {},
   "outputs": [],
   "source": [
    "os.mkdir('/tmp/holding')"
   ]
  },
  {
   "cell_type": "code",
   "execution_count": 84,
   "id": "1175fcd4-32cf-44d2-8ab7-9fe1b1c128a3",
   "metadata": {},
   "outputs": [],
   "source": [
    "os.makedirs('/home/andre/test')"
   ]
  },
  {
   "cell_type": "code",
   "execution_count": 86,
   "id": "f25f13be-cb1f-4dc7-8712-46f0829f72f4",
   "metadata": {},
   "outputs": [],
   "source": [
    "os.remove('/home/andre/test/algum')"
   ]
  },
  {
   "cell_type": "code",
   "execution_count": 87,
   "id": "e9ddc74f-be45-49b7-9a78-c18dbec0f2f6",
   "metadata": {},
   "outputs": [],
   "source": [
    "os.rmdir('/home/andre/test')"
   ]
  },
  {
   "cell_type": "code",
   "execution_count": null,
   "id": "06453e6f-f852-4528-a6b7-d49855a01804",
   "metadata": {},
   "outputs": [],
   "source": [
    "os.removedirs('/tmp/scripts/test/devops')"
   ]
  },
  {
   "cell_type": "code",
   "execution_count": 88,
   "id": "59ebd90e-1a66-4480-b9ab-bff33d749202",
   "metadata": {},
   "outputs": [
    {
     "data": {
      "text/plain": [
       "os.stat_result(st_mode=33188, st_ino=10278, st_dev=2080, st_nlink=1, st_uid=1000, st_gid=1000, st_size=893092, st_atime=1710674118, st_mtime=1710550702, st_ctime=1710550702)"
      ]
     },
     "execution_count": 88,
     "metadata": {},
     "output_type": "execute_result"
    }
   ],
   "source": [
    "os.stat('projetofenix_curto.txt')"
   ]
  },
  {
   "cell_type": "markdown",
   "id": "8caf3df4-18ae-4189-b012-44ffaab2fee0",
   "metadata": {},
   "source": [
    "<h2 style='color:gold'>Managing Files and Directories Using os.path</h2>\n",
    "<p style='color:Turquoise'> O os.path é um submodulo que nos facilita trabalhar com paths, as 3 funcionalidades mais utilizadas são para cortar e colar pedaços de um path, os tres methodos do submodulo o.path que nos permitem fazer isso são; split, basename e dirname"
   ]
  },
  {
   "cell_type": "code",
   "execution_count": 89,
   "id": "8564e911-9ac6-4408-8e7b-9d36150593e0",
   "metadata": {},
   "outputs": [],
   "source": [
    "cur_dir = os.getcwd()"
   ]
  },
  {
   "cell_type": "code",
   "execution_count": 91,
   "id": "0c71ca2a-e8c4-4cb7-a4cf-b805dcbccc35",
   "metadata": {},
   "outputs": [
    {
     "data": {
      "text/plain": [
       "'/home/andre/devops/courses/python-for-devops-book/02-automating-files'"
      ]
     },
     "execution_count": 91,
     "metadata": {},
     "output_type": "execute_result"
    }
   ],
   "source": [
    "cur_dir"
   ]
  },
  {
   "cell_type": "code",
   "execution_count": 92,
   "id": "c9a46a2e-4a07-423a-b107-9e29573f16be",
   "metadata": {},
   "outputs": [
    {
     "data": {
      "text/plain": [
       "('/home/andre/devops/courses/python-for-devops-book', '02-automating-files')"
      ]
     },
     "execution_count": 92,
     "metadata": {},
     "output_type": "execute_result"
    }
   ],
   "source": [
    "os.path.split(cur_dir)"
   ]
  },
  {
   "cell_type": "code",
   "execution_count": 95,
   "id": "dea447f8-0f5a-47c6-8f48-89a90da8adfa",
   "metadata": {},
   "outputs": [
    {
     "data": {
      "text/plain": [
       "'/home/andre/devops/courses/python-for-devops-book'"
      ]
     },
     "execution_count": 95,
     "metadata": {},
     "output_type": "execute_result"
    }
   ],
   "source": [
    "os.path.dirname(cur_dir)"
   ]
  },
  {
   "cell_type": "code",
   "execution_count": 96,
   "id": "3ffcbce2-dd1b-4cee-a285-3a63193c407c",
   "metadata": {},
   "outputs": [
    {
     "data": {
      "text/plain": [
       "'02-automating-files'"
      ]
     },
     "execution_count": 96,
     "metadata": {},
     "output_type": "execute_result"
    }
   ],
   "source": [
    "os.path.basename(cur_dir)"
   ]
  },
  {
   "cell_type": "code",
   "execution_count": 98,
   "id": "1cb75ce2-d3de-433d-b360-91377d8ee3ad",
   "metadata": {},
   "outputs": [
    {
     "name": "stdout",
     "output_type": "stream",
     "text": [
      "/home/andre/devops/courses/python-for-devops-book\n",
      "/home/andre/devops/courses\n",
      "/home/andre/devops\n",
      "/home/andre\n",
      "/home\n",
      "/\n"
     ]
    }
   ],
   "source": [
    "while os.path.basename(cur_dir):\n",
    "    cur_dir = os.path.dirname(cur_dir)\n",
    "    print(cur_dir)"
   ]
  },
  {
   "cell_type": "markdown",
   "id": "f610c204-3425-4d52-9dce-653d1103e959",
   "metadata": {},
   "source": [
    "<p style='color:Turquoise'> Configurar com arquivos de texto nosso ambiente, programa, infra no runtime é pratica comum. Para isso procuramos por esses arquivos em multiplas localidades e ordenamos os locais onde será procurado primeiro por esses arquivos de configuração. Python não funciona como sistemas Unix, pois não expande os paths automaticamente, precisamos faze-lo manualmente."
   ]
  },
  {
   "cell_type": "code",
   "execution_count": 101,
   "id": "2896b208-9669-4ceb-b4a6-62401d8cf903",
   "metadata": {},
   "outputs": [],
   "source": [
    "import os\n",
    "\n",
    "def find_rc(rc_name=\".examplerc\"):\n",
    "    # Check for Env variable\n",
    "    var_name = \"EXAMPLERC_DIR\"\n",
    "    if var_name in os.environ:\n",
    "        var_path = os.path.join(f\"${var_name}\", rc_name)\n",
    "        config_path = os.path.expandvars(var_path)\n",
    "        print(f\"Checking {config_path}\")\n",
    "    if os.path.exists(config_path):\n",
    "        return config_path\n",
    "        # Check the current working directory\n",
    "    config_path = os.path.join(os.getcwd(), rc_name)\n",
    "    print(f\"Checking {config_path}\")\n",
    "\n",
    "    if os.path.exists(config_path):\n",
    "        return config_path\n",
    "    \n",
    "    # Check user home directory\n",
    "    home_dir = os.path.expanduser(\"~/\")\n",
    "    config_path = os.path.join(home_dir, rc_name)\n",
    "    print(f\"Checking {config_path}\")\n",
    "\n",
    "    if os.path.exists(config_path):\n",
    "        return config_path\n",
    "    \n",
    "    # Check Directory of This File\n",
    "    file_path = os.path.abspath(__file__)\n",
    "    parent_path = os.path.dirname(file_path)\n",
    "    config_path = os.path.join(parent_path, rc_name)\n",
    "    print(f\"Checking {config_path}\")\n",
    "    if os.path.exists(config_path):\n",
    "       return config_path\n",
    "    \n",
    "    print(f\"File {rc_name} has not been found\")"
   ]
  },
  {
   "cell_type": "markdown",
   "id": "8d6812f1-7439-4de1-b9bd-9401dd254c73",
   "metadata": {},
   "source": [
    "<p style='color:Turquoise'> O submodulo 'path' tambem oferece metodos para obter informção do path, como se é um arquivo, diretorio ou um mount, tambem podemos ver ultimo acesso, modificcaos, tamanho do arquivo...<br>\n",
    "O exemplo abaixo anda todos os andares da tree de dirs, e retorna os files com seus tamanhos"
   ]
  },
  {
   "cell_type": "code",
   "execution_count": null,
   "id": "afe76adb-cc20-448d-b8a6-6fd32809c42e",
   "metadata": {},
   "outputs": [],
   "source": [
    "#!/usr/bin/env python\n",
    "import fire\n",
    "import os\n",
    "def walk_path(parent_path):\n",
    "    \n",
    "    print(f\"Checking: {parent_path}\")\n",
    "    childs = os.listdir(parent_path)\n",
    "    \n",
    "    for child in childs:\n",
    "        child_path = os.path.join(parent_path, child)\n",
    "    \n",
    "    if os.path.isfile(child_path):\n",
    "        last_access = os.path.getatime(child_path)\n",
    "        size = os.path.getsize(child_path)\n",
    "        print(f\"File: {child_path}\")\n",
    "        print(f\"\\tlast accessed: {last_access}\")\n",
    "        print(f\"\\tsize: {size}\")    \n",
    "    elif os.path.isdir(child_path):\n",
    "        walk_path(child_path)\n",
    "    \n",
    "    if __name__ == '__main__':\n",
    "        fire.Fire()"
   ]
  },
  {
   "cell_type": "markdown",
   "id": "eef92d2d-19f2-4849-8a05-960599c94b04",
   "metadata": {},
   "source": [
    "<p style='color:Turquoise'> Exemplos do uso de scripts assim são; identificarmos arquivos muito grandes que devem ser movidos, arquivos que nunca foram acessados, arquivos que nao sao acessado a muito tempo e talvez devessem ser deletados"
   ]
  },
  {
   "cell_type": "markdown",
   "id": "9c344cbc-4844-4e9d-9b17-3d9939f27b23",
   "metadata": {},
   "source": [
    "<h2 style='color:gold'>Walking Directory Trees Using os.walk</h2>\n",
    "<p style='color:Turquoise'> O os.path é um submodulo que nos facilita trabalhar com paths, \n",
    "as 3 funcionalidades mais utilizadas são para cortar e colar pedaços de um path, os tres methodos do submodulo o.path que nos permitem fazer isso são; split, basename e dirname"
   ]
  },
  {
   "cell_type": "code",
   "execution_count": 104,
   "id": "5c7abe85-c0e1-42ef-836b-acba42092dad",
   "metadata": {},
   "outputs": [
    {
     "name": "stdout",
     "output_type": "stream",
     "text": [
      "Checking: /home/andre/devops/courses/python-for-devops-book/02-automating-files\n",
      "Checking: /home/andre/devops/courses/python-for-devops-book/02-automating-files/.ipynb_checkpoints\n",
      "File: /home/andre/devops/courses/python-for-devops-book/02-automating-files/.ipynb_checkpoints/bookofdreams-checkpoint.txt\n",
      "\tlast accessed: 1710418975.572891\n",
      "\tsize: 18434\n"
     ]
    }
   ],
   "source": [
    "import os\n",
    "\n",
    "def walk_path(parent_path):\n",
    "    for parent_path, directories, files in os.walk(parent_path):\n",
    "        print(f\"Checking: {parent_path}\")\n",
    "    for file_name in files:\n",
    "        file_path = os.path.join(parent_path, file_name)\n",
    "    last_access = os.path.getatime(file_path)\n",
    "    size = os.path.getsize(file_path)\n",
    "    print(f\"File: {file_path}\")\n",
    "    print(f\"\\tlast accessed: {last_access}\")\n",
    "    print(f\"\\tsize: {size}\")\n",
    "\n",
    "\n",
    "walk_path('/home/andre/devops/courses/python-for-devops-book/02-automating-files')"
   ]
  },
  {
   "cell_type": "markdown",
   "id": "f30cd804-a154-4fd5-933f-ef06103e0e17",
   "metadata": {},
   "source": [
    "<h2 style='color:gold'>Paths as Objects with Pathlib</h2>\n",
    "<p style='color:Turquoise'>A library pathlib, representa paths como objetos ao inves de strings como o 'path'"
   ]
  },
  {
   "cell_type": "code",
   "execution_count": null,
   "id": "3040e66d-3666-4993-86e2-828108c30c8f",
   "metadata": {},
   "outputs": [],
   "source": [
    "\n",
    "import os\n",
    "import pathlib\n",
    "\n",
    "def find_rc(rc_name=\".examplerc\"):\n",
    "    # Check for Env variable\n",
    "    var_name = \"EXAMPLERC_DIR\"\n",
    "    example_dir = os.environ.get(var_name)\n",
    "    if example_dir:\n",
    "        dir_path = pathlib.Path(example_dir)\n",
    "    \n",
    "    config_path = dir_path / rc_name\n",
    "    print(f\"Checking {config_path}\")\n",
    "    \n",
    "    if config_path.exists():\n",
    "        return config_path.as_postix()\n",
    "    # Check the current working directory\n",
    "    config_path = pathlib.Path.cwd() / rc_name\n",
    "    print(f\"Checking {config_path}\")\n",
    "    if config_path.exists():\n",
    "        return config_path.as_postix()\n",
    "    # Check user home directory\n",
    "    config_path = pathlib.Path.home() / rc_name\n",
    "    print(f\"Checking {config_path}\")\n",
    "    if config_path.exists():\n",
    "        return config_path.as_postix()\n",
    "    # Check Directory of This File\n",
    "    file_path = pathlib.Path(__file__).resolve()\n",
    "    parent_path = file_path.parent\n",
    "    config_path = parent_path / rc_name\n",
    "    print(f\"Checking {config_path}\")\n",
    "    if config_path.exists():\n",
    "        return config_path.as_postix()"
   ]
  },
  {
   "cell_type": "markdown",
   "id": "e60fbf70-33ef-46b9-9628-b7791059aa7d",
   "metadata": {},
   "source": [
    "<p style='color:Turquoise'>"
   ]
  }
 ],
 "metadata": {
  "kernelspec": {
   "display_name": "Python 3 (ipykernel)",
   "language": "python",
   "name": "python3"
  },
  "language_info": {
   "codemirror_mode": {
    "name": "ipython",
    "version": 3
   },
   "file_extension": ".py",
   "mimetype": "text/x-python",
   "name": "python",
   "nbconvert_exporter": "python",
   "pygments_lexer": "ipython3",
   "version": "3.12.2"
  }
 },
 "nbformat": 4,
 "nbformat_minor": 5
}
