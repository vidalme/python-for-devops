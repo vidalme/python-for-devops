{
 "cells": [
  {
   "cell_type": "markdown",
   "id": "e36c0b24-37ce-477b-bcab-b7133b0b2d85",
   "metadata": {},
   "source": [
    "<h3>Automating Files and the Filesystem</h3>"
   ]
  },
  {
   "cell_type": "markdown",
   "id": "5f083f89-b0b9-4979-90dd-2bd553e555bc",
   "metadata": {},
   "source": [
    "<h2 style='color:gold'>Reading and Writing Files</h2>"
   ]
  },
  {
   "cell_type": "markdown",
   "id": "92e9e540-40e0-450c-8d67-a6558c565250",
   "metadata": {},
   "source": [
    "<h4 style='color:DodgerBlue'>Working with files</h4>\n",
    "<p style='color:Turquoise'>Podemos usar a função open para criar um file object qu tem metodos para ler e alterar dados dentro de um arquivo. A função recebe dois argumentos, path do arquivo e o modo ('r' read, 'w'write). O objeto tem um metodo 'read' para ler o arquivo."
   ]
  },
  {
   "cell_type": "code",
   "execution_count": 1,
   "id": "15fa58ae-c8fe-43da-a54b-27f31ab61f90",
   "metadata": {},
   "outputs": [],
   "source": [
    "file_path = 'projetofenix.txt'"
   ]
  },
  {
   "cell_type": "code",
   "execution_count": 2,
   "id": "45428d07-27ec-40e9-b40b-5d3fd4dc360d",
   "metadata": {},
   "outputs": [],
   "source": [
    "open_file = open(file_path,'r')"
   ]
  },
  {
   "cell_type": "code",
   "execution_count": 3,
   "id": "51be06b1-deec-40d4-b408-74d4dfc12e0c",
   "metadata": {},
   "outputs": [],
   "source": [
    "text = open_file.read()"
   ]
  },
  {
   "cell_type": "code",
   "execution_count": 4,
   "id": "01dd1372-ef18-4249-87dc-6a9a8ba1f585",
   "metadata": {},
   "outputs": [
    {
     "data": {
      "text/plain": [
       "859239"
      ]
     },
     "execution_count": 4,
     "metadata": {},
     "output_type": "execute_result"
    }
   ],
   "source": [
    "len(text)"
   ]
  },
  {
   "cell_type": "code",
   "execution_count": 5,
   "id": "d3d06e93-4d8d-40d2-bcd0-f31224c6e7b0",
   "metadata": {},
   "outputs": [
    {
     "data": {
      "text/plain": [
       "'r'"
      ]
     },
     "execution_count": 5,
     "metadata": {},
     "output_type": "execute_result"
    }
   ],
   "source": [
    "text[56]"
   ]
  },
  {
   "cell_type": "code",
   "execution_count": 6,
   "id": "d1f87bc9-b67a-4a28-83c9-102e3311e3c3",
   "metadata": {},
   "outputs": [
    {
     "data": {
      "text/plain": [
       "<_io.TextIOWrapper name='projetofenix.txt' mode='r' encoding='UTF-8'>"
      ]
     },
     "execution_count": 6,
     "metadata": {},
     "output_type": "execute_result"
    }
   ],
   "source": [
    "open_file"
   ]
  },
  {
   "cell_type": "code",
   "execution_count": 7,
   "id": "43a0e06b-5fec-4433-b618-37821ff6bc26",
   "metadata": {},
   "outputs": [],
   "source": [
    "open_file.close()"
   ]
  },
  {
   "cell_type": "markdown",
   "id": "7a9cc024-b4ed-43ef-a65c-eec5d4483d01",
   "metadata": {},
   "source": [
    "<p style='color:Turquoise'> O metodo readlines le todo o arquivo e separa cada linha em um item "
   ]
  },
  {
   "cell_type": "code",
   "execution_count": 8,
   "id": "106233a3-f441-426d-ac16-83a57fcb2e95",
   "metadata": {},
   "outputs": [],
   "source": [
    "open_file = open(file_path,'r')"
   ]
  },
  {
   "cell_type": "code",
   "execution_count": 9,
   "id": "4c621a3a-7910-42e1-a632-851cf4d43e77",
   "metadata": {},
   "outputs": [],
   "source": [
    "text = open_file.readlines()"
   ]
  },
  {
   "cell_type": "code",
   "execution_count": 10,
   "id": "219b1dc2-4f14-49c9-9446-c743b71200c8",
   "metadata": {},
   "outputs": [
    {
     "data": {
      "text/plain": [
       "14030"
      ]
     },
     "execution_count": 10,
     "metadata": {},
     "output_type": "execute_result"
    }
   ],
   "source": [
    "len(text)"
   ]
  },
  {
   "cell_type": "code",
   "execution_count": 11,
   "id": "9ba7571b-8f11-4264-9787-7db695def141",
   "metadata": {},
   "outputs": [
    {
     "data": {
      "text/plain": [
       "'Terça-feira, 2 de setembro\\n'"
      ]
     },
     "execution_count": 11,
     "metadata": {},
     "output_type": "execute_result"
    }
   ],
   "source": [
    "text[100]"
   ]
  },
  {
   "cell_type": "code",
   "execution_count": 12,
   "id": "4e318ff4-6279-4f44-aca6-f37e2496f11e",
   "metadata": {},
   "outputs": [],
   "source": [
    "open_file.close()"
   ]
  },
  {
   "cell_type": "markdown",
   "id": "1f7bfb55-34d9-4266-aac9-a95efa422290",
   "metadata": {},
   "source": [
    "<p style='color:Turquoise'> Um comando conveniente é o with, com ele não precisamos escopamos o uso do arquivo e não precisamos fecha-lo apos o uso"
   ]
  },
  {
   "cell_type": "code",
   "execution_count": 13,
   "id": "af7c3c6c-9a3a-48ec-8861-2f9949a22f3b",
   "metadata": {},
   "outputs": [],
   "source": [
    "with open (file_path,'r') as open_file:\n",
    "    text = open_file.readlines()"
   ]
  },
  {
   "cell_type": "code",
   "execution_count": 14,
   "id": "799367c5-e36c-46ef-a49c-0c4116b60f82",
   "metadata": {},
   "outputs": [
    {
     "data": {
      "text/plain": [
       "'“Apenas um campo não faz sentido?”, pergunto, levantando as\\n'"
      ]
     },
     "execution_count": 14,
     "metadata": {},
     "output_type": "execute_result"
    }
   ],
   "source": [
    "text[1030]"
   ]
  },
  {
   "cell_type": "code",
   "execution_count": 15,
   "id": "fdb9c672-5fac-4ddb-bf9d-3253e3500b50",
   "metadata": {},
   "outputs": [
    {
     "data": {
      "text/plain": [
       "True"
      ]
     },
     "execution_count": 15,
     "metadata": {},
     "output_type": "execute_result"
    }
   ],
   "source": [
    "open_file.closed"
   ]
  },
  {
   "cell_type": "markdown",
   "id": "09bfbcea-7218-493c-9c30-d69670494e87",
   "metadata": {},
   "source": [
    "<p style='color:Turquoise'> Todas as quebras de linha sao convertidas para \\n no python. Se tentarmos abrir binaries provavelmente iremos corrompelos(tipo um jpeg ou pdf), para isso precisamos usar o modo 'b'."
   ]
  },
  {
   "cell_type": "code",
   "execution_count": 16,
   "id": "c19cfa04-cca8-43ab-b797-adeb6e2d1cfc",
   "metadata": {},
   "outputs": [],
   "source": [
    "file_path = 'projetofenix.pdf'"
   ]
  },
  {
   "cell_type": "code",
   "execution_count": 17,
   "id": "5fcc6bf3-2b96-4f02-b075-c70cb3c39f0d",
   "metadata": {},
   "outputs": [],
   "source": [
    "with open(file_path,'rb') as open_file:\n",
    "    btext = open_file.read()"
   ]
  },
  {
   "cell_type": "code",
   "execution_count": 18,
   "id": "7e8ce9cb-c56e-41f4-a699-661fa7bb06fa",
   "metadata": {},
   "outputs": [
    {
     "data": {
      "text/plain": [
       "37"
      ]
     },
     "execution_count": 18,
     "metadata": {},
     "output_type": "execute_result"
    }
   ],
   "source": [
    "btext[0]"
   ]
  },
  {
   "cell_type": "code",
   "execution_count": 19,
   "id": "ca16d32b-389a-4db7-a391-d56289096c6b",
   "metadata": {},
   "outputs": [
    {
     "data": {
      "text/plain": [
       "b\"%PDF-1.4\\n%\\xe2\\xe3\\xcf\\xd3\\n1 0 obj<</Author(\\xfe\\xff\\x00G\\x00e\\x00n\\x00e\\x00 \\x00K\\x00i\\x00m\\x00 \\x00&\\x00 \\x00K\\x00e\\x00v\\x00i\\x00n\\x00 \\x00B\\x00e\\x00h\\x00r\\x00 \\x00&\\x00 \\x00G\\x00e\\x00o\\x00r\\x00g\\x00e\\x00 \\x00S\\x00p\\x00a\\x00f\\x00f\\x00o\\x00r\\x00d)/CreationDate(D:20211023015803+00'00')/Creator(\\xfe\\xff\\x00c\\x00a\\x00l\\x00i\\x00b\\x00r\\x00e\\x00 \\x00\\\\(\\x004\\x00.\\x009\\x009\\x00.\\x004\\x00\\\\)\\x00 \\x00[\\x00h\\x00t\\x00t\\x00p\\x00s\\x00:\\x00/\\x00/\\x00c\\x00a\\x00l\\x00i\\x00b\\x00r\\x00e\\x00-\\x00e\\x00b\\x00o\\x00o\\x00k\\x00.\\x00\""
      ]
     },
     "execution_count": 19,
     "metadata": {},
     "output_type": "execute_result"
    }
   ],
   "source": [
    "btext[:245]"
   ]
  },
  {
   "cell_type": "markdown",
   "id": "c0a7f6d6-257f-4f30-9382-762d3884106a",
   "metadata": {},
   "source": [
    "<p style='color:Turquoise'> Podemos escrever nos arquivos com o modo 'w' write. No exemplo vamos setar um enviroment em run time, vamos criar o arquivo .envrc que vai ser usar os comandos para setar o ambiente \"STAGE=PROD\" e a id para \"TABLE_ID=token-storage-1234\""
   ]
  },
  {
   "cell_type": "code",
   "execution_count": 20,
   "id": "1565dd05-95cc-46ff-86b7-f860e16070a0",
   "metadata": {},
   "outputs": [],
   "source": [
    "text = '''export STAGE=PROD export TABLE_ID=token-storage-1234'''\n"
   ]
  },
  {
   "cell_type": "code",
   "execution_count": 21,
   "id": "399ac756-19b4-49b4-a8cb-ae33b5d6a478",
   "metadata": {},
   "outputs": [],
   "source": [
    "with open('.envrc','w') as open_file:\n",
    "    open_file.write(text) "
   ]
  },
  {
   "cell_type": "code",
   "execution_count": 22,
   "id": "d733baf1-a772-46d9-aed0-f51fe74ecc51",
   "metadata": {},
   "outputs": [
    {
     "name": "stdout",
     "output_type": "stream",
     "text": [
      "export STAGE=PROD export TABLE_ID=token-storage-1234"
     ]
    }
   ],
   "source": [
    "!cat .envrc"
   ]
  },
  {
   "cell_type": "code",
   "execution_count": 28,
   "id": "42fd056d-4ddc-4bd0-99a6-a397899fcbd8",
   "metadata": {},
   "outputs": [
    {
     "name": "stderr",
     "output_type": "stream",
     "text": [
      "Traceback (most recent call last):\n",
      "  File \"/home/andre/devops/courses/python-for-devops-book/02-automating-files/tests.py\", line 1, in <module>\n",
      "    from cryptography.fernet import Fernet\n",
      "ModuleNotFoundError: No module named 'cryptography'\n"
     ]
    },
    {
     "data": {
      "text/plain": [
       "CompletedProcess(args=['python', 'tests.py'], returncode=1)"
      ]
     },
     "execution_count": 28,
     "metadata": {},
     "output_type": "execute_result"
    }
   ],
   "source": [
    "import subprocess\n",
    "#subprocess.run(['python','tests.py'])"
   ]
  },
  {
   "cell_type": "code",
   "execution_count": 24,
   "id": "2eb9dd69-ae2f-4b9f-9502-d9e48f5b2fe1",
   "metadata": {},
   "outputs": [
    {
     "name": "stdout",
     "output_type": "stream",
     "text": [
      "export STAGE=PROD export TABLE_ID=token-storage-1234"
     ]
    },
    {
     "data": {
      "text/plain": [
       "CompletedProcess(args=['cat', '.envrc'], returncode=0)"
      ]
     },
     "execution_count": 24,
     "metadata": {},
     "output_type": "execute_result"
    }
   ],
   "source": [
    "subprocess.run(['cat','.envrc'])"
   ]
  },
  {
   "cell_type": "markdown",
   "id": "cc28ea7a-ff89-485c-8f54-2f56b5908708",
   "metadata": {},
   "source": [
    "<p style='color:Turquoise'> Vamos cobrir mais a fundo pathlib (trata o objeto arquivo por debaixo dos panos) no capitulo 3, mas agora ja vamos apresentar 2 fucoes muito importantes, para ler e escrever"
   ]
  },
  {
   "cell_type": "code",
   "execution_count": 25,
   "id": "271d93da-1238-4f13-b862-eccb516091ee",
   "metadata": {},
   "outputs": [],
   "source": [
    "import pathlib"
   ]
  },
  {
   "cell_type": "code",
   "execution_count": 26,
   "id": "879ba569-3ecb-4b64-af5c-4fc75881114a",
   "metadata": {},
   "outputs": [],
   "source": [
    "path = pathlib.Path('t.py')"
   ]
  },
  {
   "cell_type": "code",
   "execution_count": 27,
   "id": "c90bfcd3-c1f5-4901-8764-1fafc67a8ee0",
   "metadata": {},
   "outputs": [
    {
     "ename": "FileNotFoundError",
     "evalue": "[Errno 2] No such file or directory: 't.py'",
     "output_type": "error",
     "traceback": [
      "\u001b[0;31m---------------------------------------------------------------------------\u001b[0m",
      "\u001b[0;31mFileNotFoundError\u001b[0m                         Traceback (most recent call last)",
      "Cell \u001b[0;32mIn[27], line 1\u001b[0m\n\u001b[0;32m----> 1\u001b[0m \u001b[43mpath\u001b[49m\u001b[38;5;241;43m.\u001b[39;49m\u001b[43mread_text\u001b[49m\u001b[43m(\u001b[49m\u001b[43m)\u001b[49m\n",
      "File \u001b[0;32m/usr/lib/python3.10/pathlib.py:1134\u001b[0m, in \u001b[0;36mPath.read_text\u001b[0;34m(self, encoding, errors)\u001b[0m\n\u001b[1;32m   1130\u001b[0m \u001b[38;5;250m\u001b[39m\u001b[38;5;124;03m\"\"\"\u001b[39;00m\n\u001b[1;32m   1131\u001b[0m \u001b[38;5;124;03mOpen the file in text mode, read it, and close the file.\u001b[39;00m\n\u001b[1;32m   1132\u001b[0m \u001b[38;5;124;03m\"\"\"\u001b[39;00m\n\u001b[1;32m   1133\u001b[0m encoding \u001b[38;5;241m=\u001b[39m io\u001b[38;5;241m.\u001b[39mtext_encoding(encoding)\n\u001b[0;32m-> 1134\u001b[0m \u001b[38;5;28;01mwith\u001b[39;00m \u001b[38;5;28;43mself\u001b[39;49m\u001b[38;5;241;43m.\u001b[39;49m\u001b[43mopen\u001b[49m\u001b[43m(\u001b[49m\u001b[43mmode\u001b[49m\u001b[38;5;241;43m=\u001b[39;49m\u001b[38;5;124;43m'\u001b[39;49m\u001b[38;5;124;43mr\u001b[39;49m\u001b[38;5;124;43m'\u001b[39;49m\u001b[43m,\u001b[49m\u001b[43m \u001b[49m\u001b[43mencoding\u001b[49m\u001b[38;5;241;43m=\u001b[39;49m\u001b[43mencoding\u001b[49m\u001b[43m,\u001b[49m\u001b[43m \u001b[49m\u001b[43merrors\u001b[49m\u001b[38;5;241;43m=\u001b[39;49m\u001b[43merrors\u001b[49m\u001b[43m)\u001b[49m \u001b[38;5;28;01mas\u001b[39;00m f:\n\u001b[1;32m   1135\u001b[0m     \u001b[38;5;28;01mreturn\u001b[39;00m f\u001b[38;5;241m.\u001b[39mread()\n",
      "File \u001b[0;32m/usr/lib/python3.10/pathlib.py:1119\u001b[0m, in \u001b[0;36mPath.open\u001b[0;34m(self, mode, buffering, encoding, errors, newline)\u001b[0m\n\u001b[1;32m   1117\u001b[0m \u001b[38;5;28;01mif\u001b[39;00m \u001b[38;5;124m\"\u001b[39m\u001b[38;5;124mb\u001b[39m\u001b[38;5;124m\"\u001b[39m \u001b[38;5;129;01mnot\u001b[39;00m \u001b[38;5;129;01min\u001b[39;00m mode:\n\u001b[1;32m   1118\u001b[0m     encoding \u001b[38;5;241m=\u001b[39m io\u001b[38;5;241m.\u001b[39mtext_encoding(encoding)\n\u001b[0;32m-> 1119\u001b[0m \u001b[38;5;28;01mreturn\u001b[39;00m \u001b[38;5;28;43mself\u001b[39;49m\u001b[38;5;241;43m.\u001b[39;49m\u001b[43m_accessor\u001b[49m\u001b[38;5;241;43m.\u001b[39;49m\u001b[43mopen\u001b[49m\u001b[43m(\u001b[49m\u001b[38;5;28;43mself\u001b[39;49m\u001b[43m,\u001b[49m\u001b[43m \u001b[49m\u001b[43mmode\u001b[49m\u001b[43m,\u001b[49m\u001b[43m \u001b[49m\u001b[43mbuffering\u001b[49m\u001b[43m,\u001b[49m\u001b[43m \u001b[49m\u001b[43mencoding\u001b[49m\u001b[43m,\u001b[49m\u001b[43m \u001b[49m\u001b[43merrors\u001b[49m\u001b[43m,\u001b[49m\n\u001b[1;32m   1120\u001b[0m \u001b[43m                           \u001b[49m\u001b[43mnewline\u001b[49m\u001b[43m)\u001b[49m\n",
      "\u001b[0;31mFileNotFoundError\u001b[0m: [Errno 2] No such file or directory: 't.py'"
     ]
    }
   ],
   "source": [
    "path.read_text()"
   ]
  },
  {
   "cell_type": "markdown",
   "id": "ac28b69d-de15-4944-a36f-f2d2398bbfc5",
   "metadata": {},
   "source": [
    "<p style='color:Turquoise'> O metodo para usar com binarios é 'read_bytes'<br>\n",
    "Para criar novos arquivos ou overwrite antigos, existem os metodos para text e binarios"
   ]
  },
  {
   "cell_type": "code",
   "execution_count": null,
   "id": "8ec56418-1924-40ed-8e14-6ef0830ce8a3",
   "metadata": {},
   "outputs": [],
   "source": [
    "path = pathlib.Path('configdealgo.config')"
   ]
  },
  {
   "cell_type": "code",
   "execution_count": null,
   "id": "72618836-36a7-42f3-a070-5d5ff9acbfca",
   "metadata": {},
   "outputs": [],
   "source": [
    "path.write_text('LOG:Debug')"
   ]
  },
  {
   "cell_type": "markdown",
   "id": "ef221b1f-b665-48b3-8642-0b824592aade",
   "metadata": {},
   "source": [
    "<p style='color:Turquoise'> Para trabalharmops com JSON ou outros formatos um pouco mais complexos, usando os objetos de arquivo e metodos read, write, readlines... deixa nossa data meio suja e trabalhosa de se lidar, para simplificar muito podemos usar o modulo 'json'<br>\n",
    "No exemplo vamos usar um arquivo policy AWS IAM que são em formato JSON.  "
   ]
  },
  {
   "cell_type": "code",
   "execution_count": null,
   "id": "939f4c27-6ffe-47dd-96e4-ac0dadd0fcaa",
   "metadata": {},
   "outputs": [],
   "source": [
    "import json"
   ]
  },
  {
   "cell_type": "code",
   "execution_count": null,
   "id": "33a9ffff-17eb-43d0-840f-3e9f7e6ad600",
   "metadata": {},
   "outputs": [],
   "source": [
    "with open('service-policy.json')as opened_file:\n",
    "    policy = json.load(opened_file)"
   ]
  },
  {
   "cell_type": "markdown",
   "id": "4ab97974-4a18-438d-889e-369c740472de",
   "metadata": {},
   "source": [
    "<p style='color:Turquoise'>usamos o modulo <b style=\"font-size:1.5rem\">pprint</b> para parsear o json, esse metodo pprint pode deixar qualquer objeto python mais legivel"
   ]
  },
  {
   "cell_type": "code",
   "execution_count": null,
   "id": "050adca3-e702-4454-9a76-82a7a538b65c",
   "metadata": {},
   "outputs": [],
   "source": [
    "from pprint import pprint"
   ]
  },
  {
   "cell_type": "code",
   "execution_count": null,
   "id": "2e77600f-93c6-4a40-8bb2-2e88055d8a82",
   "metadata": {},
   "outputs": [],
   "source": [
    "pprint(policy)"
   ]
  },
  {
   "cell_type": "markdown",
   "id": "31a822da-c5e8-40cc-b840-eb0fb0e28030",
   "metadata": {},
   "source": [
    "<p style='color:Turquoise'>Para converter um python dictioary num json usamos o metodo dump do json module. É assim que atualizariamos essa policy da AWS IAM"
   ]
  },
  {
   "cell_type": "code",
   "execution_count": null,
   "id": "26c0890c-ba3e-4ceb-8d59-9eb2054d727f",
   "metadata": {},
   "outputs": [],
   "source": [
    "with open('service-policy.json','w') as opened_file:\n",
    "    policy = json.dump(policy,opened_file)"
   ]
  },
  {
   "cell_type": "markdown",
   "id": "b942073f-8580-4c8b-95a9-20a47e3d0cbf",
   "metadata": {},
   "source": [
    "<p style='color:Turquoise'>Yaml é o superset do JSON que usa identacao para marcar os dados assim como python, \n",
    "a libraary mais utilizada para trabalharo com yaml é a <b style=\"font-size:1.5rem\">PyYAML</b><br>\n",
    "Na esta na livraria padrao do python, temos que instalar, pip install pyyaml"
   ]
  },
  {
   "cell_type": "code",
   "execution_count": null,
   "id": "416c89be-9ca4-4440-b91a-333269bbaa5a",
   "metadata": {},
   "outputs": [],
   "source": [
    "import yaml"
   ]
  },
  {
   "cell_type": "code",
   "execution_count": null,
   "id": "04f96027-3066-4f73-af88-4df5821b8d4c",
   "metadata": {},
   "outputs": [],
   "source": [
    "with open('service-policy.json','r') as opened_file:\n",
    "    verify_apache = yaml.safe_load(opened_file)"
   ]
  },
  {
   "cell_type": "code",
   "execution_count": null,
   "id": "4900795c-1de5-45ca-bfd2-06384e69e967",
   "metadata": {},
   "outputs": [],
   "source": [
    "print(verify_apache)"
   ]
  },
  {
   "cell_type": "markdown",
   "id": "c1c309d4-17fd-4a0e-b89b-222a8661525a",
   "metadata": {},
   "source": [
    "<h2 style='color:gold'>Dealing with Large Files</h2>"
   ]
  },
  {
   "cell_type": "markdown",
   "id": "5e73976f-1ebe-4892-817e-def59a20f7ac",
   "metadata": {},
   "source": [
    "<p style='color:Turquoise'>Quando vamos lidar com arquivos maiores precisamos fazer uso de esrategias mais performaticas, usar o garbage collector do python é uma excelente alternativa, pois nos ajuda a abrir um arquivo e utilizar linha por linha, carregando e depois jogando fora, dessa forma liberando memoria a cada linha processada"
   ]
  },
  {
   "cell_type": "code",
   "execution_count": null,
   "id": "49d05486-b67a-4c65-8b23-9bf1fc5a7fb6",
   "metadata": {},
   "outputs": [],
   "source": [
    "with open('projetofenix.txt','r') as source_file:\n",
    "    with open('projetofenix_curto.txt','w') as target_file:\n",
    "        for linha in source_file:\n",
    "            target_file.write(linha)"
   ]
  },
  {
   "cell_type": "code",
   "execution_count": null,
   "id": "0f039007-79bb-4e39-991e-2cf8dcea1a0a",
   "metadata": {},
   "outputs": [],
   "source": []
  },
  {
   "cell_type": "markdown",
   "id": "48c16a62-9a4f-49b6-a463-19e49e4b4b99",
   "metadata": {},
   "source": [
    "<h2 style='color:gold'>Encrypting Text</h2>"
   ]
  },
  {
   "cell_type": "markdown",
   "id": "61fd5861-eec4-4cfd-937b-2c486b54d8e2",
   "metadata": {},
   "source": [
    "<h4 style='color:DodgerBlue'>Hashing with Hashlib</h4>"
   ]
  },
  {
   "cell_type": "code",
   "execution_count": null,
   "id": "628a2d79-332e-4128-93f3-ea0d91ba3b94",
   "metadata": {},
   "outputs": [],
   "source": [
    "import hashlib"
   ]
  },
  {
   "cell_type": "code",
   "execution_count": null,
   "id": "a1c6fb1d-575d-425d-817c-2bbcfe7eb9ee",
   "metadata": {},
   "outputs": [],
   "source": [
    "secret = \"This is the password or document text\""
   ]
  },
  {
   "cell_type": "code",
   "execution_count": null,
   "id": "4b64fb5d-f3eb-451a-b35f-c71a937c4dc5",
   "metadata": {},
   "outputs": [],
   "source": [
    "bsecret = secret.encode()"
   ]
  },
  {
   "cell_type": "code",
   "execution_count": null,
   "id": "fdbfce61-a353-4811-8121-e95a04bb59e3",
   "metadata": {},
   "outputs": [],
   "source": [
    "m = hashlib.md5()"
   ]
  },
  {
   "cell_type": "code",
   "execution_count": null,
   "id": "bee218b1-b46e-4ba6-9b12-db57f7fa805e",
   "metadata": {},
   "outputs": [],
   "source": [
    "m.update(bsecret)"
   ]
  },
  {
   "cell_type": "code",
   "execution_count": null,
   "id": "35b32586-1448-46f6-bdcd-7933ef69eadb",
   "metadata": {},
   "outputs": [],
   "source": [
    "m.digest()"
   ]
  },
  {
   "cell_type": "markdown",
   "id": "c0e781d0-2b88-4977-974f-9d57641ef8fe",
   "metadata": {},
   "source": [
    "<h4 style='color:DodgerBlue'>Encryption with Cryptography</h4>\n"
   ]
  },
  {
   "cell_type": "code",
   "execution_count": null,
   "id": "ed4e81f8-5dec-44c4-a644-0d90a7a9b866",
   "metadata": {},
   "outputs": [],
   "source": [
    "from cryptography.fernet import Fernet"
   ]
  },
  {
   "cell_type": "code",
   "execution_count": null,
   "id": "b18cea9e-dd71-4dee-b344-62465f4b0188",
   "metadata": {},
   "outputs": [],
   "source": []
  },
  {
   "cell_type": "code",
   "execution_count": null,
   "id": "c4f52650-d123-4a6a-bd62-73e6826f0cf4",
   "metadata": {},
   "outputs": [],
   "source": []
  },
  {
   "cell_type": "code",
   "execution_count": null,
   "id": "288354dc-c23c-4b0e-9f96-0dfb4a2aea70",
   "metadata": {},
   "outputs": [],
   "source": []
  },
  {
   "cell_type": "code",
   "execution_count": null,
   "id": "efb47da1-1d62-4441-a720-544b534b637a",
   "metadata": {},
   "outputs": [],
   "source": []
  },
  {
   "cell_type": "markdown",
   "id": "ea55e001-1d04-4434-b3dd-127247628bee",
   "metadata": {},
   "source": [
    "<p style='color:Turquoise'>"
   ]
  },
  {
   "cell_type": "markdown",
   "id": "f610c204-3425-4d52-9dce-653d1103e959",
   "metadata": {},
   "source": [
    "<p style='color:Turquoise'>"
   ]
  },
  {
   "cell_type": "markdown",
   "id": "8d6812f1-7439-4de1-b9bd-9401dd254c73",
   "metadata": {},
   "source": [
    "<p style='color:Turquoise'>"
   ]
  },
  {
   "cell_type": "markdown",
   "id": "eef92d2d-19f2-4849-8a05-960599c94b04",
   "metadata": {},
   "source": [
    "<p style='color:Turquoise'>"
   ]
  },
  {
   "cell_type": "markdown",
   "id": "e60fbf70-33ef-46b9-9628-b7791059aa7d",
   "metadata": {},
   "source": [
    "<p style='color:Turquoise'>"
   ]
  },
  {
   "cell_type": "code",
   "execution_count": null,
   "id": "697799aa-747f-42a1-adac-f4858c64f30c",
   "metadata": {},
   "outputs": [],
   "source": []
  },
  {
   "cell_type": "code",
   "execution_count": null,
   "id": "5f634c8a-ec32-4974-9b25-0a68f205b164",
   "metadata": {},
   "outputs": [],
   "source": []
  },
  {
   "cell_type": "code",
   "execution_count": null,
   "id": "d2c07168-33da-46a0-849f-7c43d2c86e9f",
   "metadata": {},
   "outputs": [],
   "source": []
  }
 ],
 "metadata": {
  "kernelspec": {
   "display_name": "Python 3 (ipykernel)",
   "language": "python",
   "name": "python3"
  },
  "language_info": {
   "codemirror_mode": {
    "name": "ipython",
    "version": 3
   },
   "file_extension": ".py",
   "mimetype": "text/x-python",
   "name": "python",
   "nbconvert_exporter": "python",
   "pygments_lexer": "ipython3",
   "version": "3.10.12"
  }
 },
 "nbformat": 4,
 "nbformat_minor": 5
}
