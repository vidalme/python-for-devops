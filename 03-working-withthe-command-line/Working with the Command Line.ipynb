{
 "cells": [
  {
   "cell_type": "markdown",
   "id": "e36c0b24-37ce-477b-bcab-b7133b0b2d85",
   "metadata": {},
   "source": [
    "<h3>Tabalhando com a linha de comando</h3>"
   ]
  },
  {
   "cell_type": "markdown",
   "id": "5f083f89-b0b9-4979-90dd-2bd553e555bc",
   "metadata": {},
   "source": [
    "<h2 style='color:gold'>Trabalhando com o shell</h2>\n",
    "<p style='color:Turquoise'>Python oferece muitas ferramentas para interagir com os OS. Temos obrigação de conhecermos razoavelmente bem os modulos <b>sys, os e subprocess</b>"
   ]
  },
  {
   "cell_type": "markdown",
   "id": "92e9e540-40e0-450c-8d67-a6558c565250",
   "metadata": {},
   "source": [
    "<h4 style='color:DodgerBlue'>Falando ao interpretador com o mudulo sys</h4>\n",
    "<p style='color:Turquoise'> O modulo sys nos da acesso a varias variables e metodos.<br>\n",
    "Existem dois tipos de bytes interpretados, <i>little endian</i>(o primeiro byte é o menos importante) e <i>large endian </i>(primeiro byte é o mais importante)"
   ]
  },
  {
   "cell_type": "code",
   "execution_count": 1,
   "id": "54c171d5",
   "metadata": {
    "vscode": {
     "languageId": "plaintext"
    }
   },
   "outputs": [],
   "source": [
    "import sys"
   ]
  },
  {
   "cell_type": "code",
   "execution_count": 2,
   "id": "809d9887",
   "metadata": {
    "vscode": {
     "languageId": "plaintext"
    }
   },
   "outputs": [
    {
     "data": {
      "text/plain": [
       "'little'"
      ]
     },
     "execution_count": 2,
     "metadata": {},
     "output_type": "execute_result"
    }
   ],
   "source": [
    "sys.byteorder"
   ]
  },
  {
   "cell_type": "code",
   "execution_count": 3,
   "id": "7274b524",
   "metadata": {
    "vscode": {
     "languageId": "plaintext"
    }
   },
   "outputs": [
    {
     "data": {
      "text/plain": [
       "28"
      ]
     },
     "execution_count": 3,
     "metadata": {},
     "output_type": "execute_result"
    }
   ],
   "source": [
    "sys.getsizeof(1)"
   ]
  },
  {
   "cell_type": "markdown",
   "id": "1e1f9d2c-9f8f-4053-8eb9-9a6dbb448ec7",
   "metadata": {
    "vscode": {
     "languageId": "plaintext"
    }
   },
   "source": [
    "<p style='color:Turquoise'> Se precisarmos tomar decisões baseadas em que sistema operacional estamos lidando, usamos o<b> sys.platform</p></b>"
   ]
  },
  {
   "cell_type": "code",
   "execution_count": 4,
   "id": "7784a7bb",
   "metadata": {
    "vscode": {
     "languageId": "plaintext"
    }
   },
   "outputs": [
    {
     "data": {
      "text/plain": [
       "'linux'"
      ]
     },
     "execution_count": 4,
     "metadata": {},
     "output_type": "execute_result"
    }
   ],
   "source": [
    "sys.platform"
   ]
  },
  {
   "cell_type": "markdown",
   "id": "391e53e5-e14f-4770-b9b5-10e56b1333d0",
   "metadata": {
    "vscode": {
     "languageId": "plaintext"
    }
   },
   "source": [
    "<p style='color:Turquoise'> A situação mais comum é a que precisemos usar comandos especificos dependendo da verão de python do interpretador, o codigo abaixo printa uma mensagem baseada em qual python esta sendo usado"
   ]
  },
  {
   "cell_type": "code",
   "execution_count": 5,
   "id": "2704f4ba-2caa-4dc4-b65c-9b6928fc0b78",
   "metadata": {},
   "outputs": [
    {
     "name": "stdout",
     "output_type": "stream",
     "text": [
      "ta suave.\n"
     ]
    }
   ],
   "source": [
    "if sys.version_info.major < 3:\n",
    "    print('Você precisa fazer upgrade do seu python')\n",
    "elif sys.version_info.minor < 7:\n",
    "    print('Voce nao esta com a versao atualizada do python')\n",
    "else:\n",
    "    print('ta suave.')"
   ]
  },
  {
   "cell_type": "markdown",
   "id": "7a430569",
   "metadata": {},
   "source": [
    "<h4 style='color:DodgerBlue'>Lidando com o sistema operacional usando o modulo 'os'</h4>\n",
    "<p style='color:Turquoise'> Já vimos sobre o os module quando lidamos com arquivos e sistemas de arquivos, porem ele tambem vem com um varias ferramentas para lidar com sistemas operacionais."
   ]
  },
  {
   "cell_type": "code",
   "execution_count": 7,
   "id": "82acd880-8447-42b1-bb1b-c5cb798c63ef",
   "metadata": {},
   "outputs": [],
   "source": [
    "import os"
   ]
  },
  {
   "cell_type": "code",
   "execution_count": 8,
   "id": "e8eee6e7-bd85-4aef-8b14-40f11a990429",
   "metadata": {},
   "outputs": [
    {
     "data": {
      "text/plain": [
       "'/home/andre/devops/courses/python-for-devops-book/03-working-withthe-command-line'"
      ]
     },
     "execution_count": 8,
     "metadata": {},
     "output_type": "execute_result"
    }
   ],
   "source": [
    "os.getcwd()"
   ]
  },
  {
   "cell_type": "code",
   "execution_count": 15,
   "id": "7df9131f-94a9-425b-a505-00e64f962fac",
   "metadata": {},
   "outputs": [],
   "source": [
    "os.chdir('/home/andre/devops')"
   ]
  },
  {
   "cell_type": "code",
   "execution_count": 16,
   "id": "8f235fed-8e08-4231-a88e-9b1bba093a03",
   "metadata": {},
   "outputs": [
    {
     "data": {
      "text/plain": [
       "'/home/andre/devops'"
      ]
     },
     "execution_count": 16,
     "metadata": {},
     "output_type": "execute_result"
    }
   ],
   "source": [
    "os.getcwd()"
   ]
  },
  {
   "cell_type": "code",
   "execution_count": 17,
   "id": "1f619a7a-b0e6-459f-8d6a-99019ee938ad",
   "metadata": {},
   "outputs": [],
   "source": [
    "os.environ.get('LOGLEVEL')"
   ]
  },
  {
   "cell_type": "code",
   "execution_count": 18,
   "id": "8734c7b8-7ad0-4bbf-be68-566be18ec1f0",
   "metadata": {},
   "outputs": [],
   "source": [
    "os.environ['LOGLEVEL'] = 'DEBUG'"
   ]
  },
  {
   "cell_type": "code",
   "execution_count": 19,
   "id": "ffec1253-a47b-417c-a576-5ed49d97b305",
   "metadata": {},
   "outputs": [
    {
     "data": {
      "text/plain": [
       "'DEBUG'"
      ]
     },
     "execution_count": 19,
     "metadata": {},
     "output_type": "execute_result"
    }
   ],
   "source": [
    "os.environ.get('LOGLEVEL')"
   ]
  },
  {
   "cell_type": "code",
   "execution_count": 24,
   "id": "2b919746-5580-4735-8f2b-2dbae25a6a94",
   "metadata": {},
   "outputs": [],
   "source": [
    "#nao funciona no wsl\n",
    "#os.getlogin()"
   ]
  },
  {
   "cell_type": "markdown",
   "id": "639803fc",
   "metadata": {},
   "source": [
    "<h4 style='color:DodgerBlue'>Inicie processos com o modulo 'subprocess'</h4>\n",
    "<p style='color:Turquoise'>Muitas vezes precisamos rodar aplicativos (programas/scripts) fora do python de dentro do python, para isso utilizamos o modulo 'subprocess'. "
   ]
  },
  {
   "cell_type": "code",
   "execution_count": 27,
   "id": "a1a89d64-2cad-4324-8ed4-e19ac68b00db",
   "metadata": {},
   "outputs": [],
   "source": [
    "import subprocess"
   ]
  },
  {
   "cell_type": "code",
   "execution_count": 28,
   "id": "85b0c481-adb6-404f-abaa-316f5ca066d3",
   "metadata": {},
   "outputs": [],
   "source": [
    "cp = subprocess.run( ['ls','-l'], capture_output=True, universal_newlines=True)"
   ]
  },
  {
   "cell_type": "code",
   "execution_count": 29,
   "id": "2a3eaf46-1242-4ea3-93a7-1a853941527b",
   "metadata": {},
   "outputs": [
    {
     "data": {
      "text/plain": [
       "'total 20\\ndrwxr-xr-x 5 andre andre 4096 Mar 13 09:07 _projects\\ndrwxr-xr-x 6 andre andre 4096 Mar 14 09:09 courses\\ndrwxr-xr-x 6 andre andre 4096 Mar 12 15:13 gradientdiscipline\\ndrwxr-xr-x 7 andre andre 4096 Mar  2 02:09 linux-pwrlvl\\ndrwxr-xr-x 9 andre andre 4096 Mar 13 10:21 python-pwrlvl\\n'"
      ]
     },
     "execution_count": 29,
     "metadata": {},
     "output_type": "execute_result"
    }
   ],
   "source": [
    "cp.stdout"
   ]
  },
  {
   "cell_type": "markdown",
   "id": "cdcb9fb8",
   "metadata": {},
   "source": [
    "<h2 style='color:gold'>Criando ferramentas de linha de comando</h2>\n",
    "<p style='color:Turquoise'>Para rodar scripts python podemos importar o modulo, porem o codigo ira rodar automaticamente tirando o controle do caller. Para evitar isso usamos o bloco de codigo "
   ]
  },
  {
   "cell_type": "code",
   "execution_count": 30,
   "id": "cb160dac-5372-4aa8-80f9-66bfd752e842",
   "metadata": {},
   "outputs": [
    {
     "name": "stdout",
     "output_type": "stream",
     "text": [
      "Hello Joe\n"
     ]
    }
   ],
   "source": [
    "def say_it():\n",
    "     greeting = 'Hello'\n",
    "     target = 'Joe'\n",
    "     message = f'{greeting} {target}'\n",
    "     print(message)\n",
    "if __name__ == '__main__':\n",
    "     say_it()\n"
   ]
  },
  {
   "cell_type": "markdown",
   "id": "bc20e9f1-dec8-446d-8e9f-ad88fd3c5559",
   "metadata": {},
   "source": [
    "<p><b>Making Your Shell Script Executable</b>"
   ]
  },
  {
   "cell_type": "markdown",
   "id": "12ba2e0b-accd-4da1-a620-d0de82f7ff72",
   "metadata": {},
   "source": [
    "Para não precisarmos invocar python da linha de comando toda vez que formos rodar o python script podem usar a tag"
   ]
  },
  {
   "cell_type": "code",
   "execution_count": 33,
   "id": "1bc4060b-322e-4616-a283-338883941bca",
   "metadata": {},
   "outputs": [
    {
     "name": "stdout",
     "output_type": "stream",
     "text": [
      "Hello Joe\n"
     ]
    }
   ],
   "source": [
    "#!/usr/bin/env python\n",
    "def say_it():\n",
    "     greeting = 'Hello'\n",
    "     target = 'Joe'\n",
    "     message = f'{greeting} {target}'\n",
    "     print(message)\n",
    "if __name__ == '__main__':\n",
    "     say_it()"
   ]
  },
  {
   "cell_type": "markdown",
   "id": "e5d9ad8c-d426-4f95-bce3-6a4f7b117457",
   "metadata": {},
   "source": [
    "<p>Podemos entoa chamar o script da linha de comando apenas escrevend '$ ./say_it.py'\n",
    "<p>Para fazermos CLIs que realmente fazem algo util, precisamos que elas aceitem argumentos e flags, ao mesmo tempo que provem informação de como usa-las, a documentação é parte fundamental da construção de CLIs."
   ]
  },
  {
   "cell_type": "markdown",
   "id": "d9c5c8c7",
   "metadata": {},
   "source": [
    "<h4 style='color:DodgerBlue'>Usando o sys.argv</h4>\n",
    "<p style='color:Turquoise'>O modo mais facil receber flags e argumentos de um comando de linha é com o sys.argv"
   ]
  },
  {
   "cell_type": "code",
   "execution_count": null,
   "id": "f82c71c6-7a79-4bdd-a43c-c9e4ad096c04",
   "metadata": {},
   "outputs": [],
   "source": [
    "#!/usr/bin/env python\n",
    "\"\"\"\n",
    "Simple command-line tool using sys.argv\n",
    "\"\"\"\n",
    "import sys\n",
    "if __name__ == '__main__':\n",
    " print(f\"The first argument: '{sys.argv[0]}'\")\n",
    " print(f\"The second argument: '{sys.argv[1]}'\")b\n",
    " print(f\"The third argument: '{sys.argv[2]}'\")\n",
    " print(f\"The fourth argument: '{sys.argv[3]}'\")"
   ]
  },
  {
   "cell_type": "code",
   "execution_count": null,
   "id": "f34d5639-6b71-472f-beea-ecc33eab72c6",
   "metadata": {},
   "outputs": [],
   "source": [
    "$ ./sys_argv.py --a-flag some-value 13"
   ]
  },
  {
   "cell_type": "code",
   "execution_count": null,
   "id": "77e4e2b7-cc8f-478a-a37a-d6fdb4373334",
   "metadata": {},
   "outputs": [],
   "source": [
    "The first argument: './sys_argv.py'\n",
    "The second argument: '--a-flag'\n",
    "The third argument: 'some-value'\n",
    "The fourth argument: '13'"
   ]
  },
  {
   "cell_type": "code",
   "execution_count": null,
   "id": "e0cff42e-6bfd-40a5-97b9-64f740aa87d6",
   "metadata": {},
   "outputs": [],
   "source": [
    "#!/usr/bin/env python\n",
    "\"\"\"\n",
    "Simple command-line tool using sys.argv\n",
    "\"\"\"\n",
    "import sys\n",
    "\n",
    "def say_it(greeting, target):\n",
    "    message = f'{greeting} {target}'\n",
    "    print(message)\n",
    "\n",
    "if __name__ == '__main__':\n",
    "    \n",
    "    greeting = 'Hello'\n",
    "    target = 'Joe'\n",
    "    \n",
    "    if '--help' in sys.argv:\n",
    "        help_message = f\"Usage: {sys.argv[0]} --name <NAME> --greeting <GREETING>\"\n",
    "        print(help_message)\n",
    "        sys.exit()\n",
    "    \n",
    "    if '--name' in sys.argv:\n",
    "        # Get position after name flag\n",
    "        name_index = sys.argv.index('--name') + 1\n",
    "    \n",
    "    if name_index < len(sys.argv):\n",
    "        name = sys.argv[name_index]\n",
    "    \n",
    "    if '--greeting' in sys.argv:\n",
    "        # Get position after greeting flag\n",
    "        greeting_index = sys.argv.index('--greeting') + 1\n",
    "    \n",
    "    if greeting_index < len(sys.argv):\n",
    "        greeting = sys.argv[greeting_index]\n",
    "        say_it(greeting, name)"
   ]
  },
  {
   "cell_type": "markdown",
   "id": "23761daa-1f2e-4078-a9e4-43050ea17be4",
   "metadata": {},
   "source": [
    "<p style='color:Turquoise'>O exemplo acima funciona porem commuitos problemas, varias possibilidades de erros que nao são lidados e inseguranças, para isso existem frameworks para criamos CLIs; argparse, click e fire. "
   ]
  },
  {
   "cell_type": "markdown",
   "id": "2318b0fd",
   "metadata": {},
   "source": [
    "<h4 style='color:DodgerBlue'>Usando argparse</h4>\n",
    "<p style='color:Turquoise'> argparse é o framework que ja vem instalado no python e abstrai muitos dos detalhes que envolvem a criação de CLIs. Nos ajuda com parse dos argumentos e mensagens de ajuda (--help) "
   ]
  },
  {
   "cell_type": "markdown",
   "id": "2a454926",
   "metadata": {},
   "source": [
    "<h4 style='color:DodgerBlue'>Usando click</h4>\n",
    "<p style='color:Turquoise'>"
   ]
  },
  {
   "cell_type": "markdown",
   "id": "7f358208",
   "metadata": {},
   "source": [
    "<h4 style='color:DodgerBlue'>fire</h4>\n",
    "<p style='color:Turquoise'>"
   ]
  },
  {
   "cell_type": "markdown",
   "id": "bc02ae2d",
   "metadata": {},
   "source": [
    "<h4 style='color:DodgerBlue'>Implementando plug-ins</h4>\n",
    "<p style='color:Turquoise'>"
   ]
  },
  {
   "cell_type": "markdown",
   "id": "716da680",
   "metadata": {},
   "source": [
    "<h2 style='color:gold'>Estudo de caso</h2>"
   ]
  },
  {
   "cell_type": "markdown",
   "id": "0583e3df",
   "metadata": {},
   "source": [
    "<h4 style='color:DodgerBlue'>Using the Numba Just-in-Time (JIT) Compiler</h4>\n",
    "<p style='color:Turquoise'>"
   ]
  },
  {
   "cell_type": "markdown",
   "id": "d96f65c7",
   "metadata": {},
   "source": [
    "<h4 style='color:DodgerBlue'>Using the GPU with CUDA Python</h4>\n",
    "<p style='color:Turquoise'>"
   ]
  },
  {
   "cell_type": "markdown",
   "id": "d58d0200",
   "metadata": {},
   "source": [
    "<h4 style='color:DodgerBlue'>Running True Multicore Multithreaded Python Using Numba</h4>\n",
    "<p style='color:Turquoise'>"
   ]
  },
  {
   "cell_type": "markdown",
   "id": "a6039785",
   "metadata": {},
   "source": [
    "<h4 style='color:DodgerBlue'>KMeans Clustering</h4>\n",
    "<p style='color:Turquoise'>"
   ]
  },
  {
   "cell_type": "markdown",
   "id": "65784e87",
   "metadata": {},
   "source": [
    "<h2 style='color:gold'>Exercicios</h2>"
   ]
  },
  {
   "cell_type": "markdown",
   "id": "91154a5f",
   "metadata": {},
   "source": []
  }
 ],
 "metadata": {
  "kernelspec": {
   "display_name": "Python 3 (ipykernel)",
   "language": "python",
   "name": "python3"
  },
  "language_info": {
   "codemirror_mode": {
    "name": "ipython",
    "version": 3
   },
   "file_extension": ".py",
   "mimetype": "text/x-python",
   "name": "python",
   "nbconvert_exporter": "python",
   "pygments_lexer": "ipython3",
   "version": "3.12.2"
  }
 },
 "nbformat": 4,
 "nbformat_minor": 5
}
